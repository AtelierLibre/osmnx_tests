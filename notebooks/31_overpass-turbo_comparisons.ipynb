{
 "cells": [
  {
   "cell_type": "markdown",
   "metadata": {},
   "source": [
    "# 09 overpass-turbo.eu comparisons\n",
    "\n",
    "***2 Sep 2020***\n",
    "\n",
    "This notebook compares results from osmnx's new `geometries_from_XXXX()` functions to results running the same query on https://overpass-turbo.eu.\n",
    "\n",
    "### Notes:\n",
    "\n",
    "1. OSMnx only processes multipolygon relations. The equivalent query on overpass-turbo is:\n",
    "`(type:node or type:way or (type:relation and type=multipolygon)) and amenity=school in Berlin`\n",
    "2. The polygon results on the overpass-turbo homepage include polygons and multipolygons\n",
    "3. OSMnx will only assemble MultiPolygons where member geometries are acurately tagged with a `role`"
   ]
  },
  {
   "cell_type": "code",
   "execution_count": 3,
   "metadata": {},
   "outputs": [
    {
     "name": "stdout",
     "output_type": "stream",
     "text": [
      "The autoreload extension is already loaded. To reload it, use:\n",
      "  %reload_ext autoreload\n"
     ]
    }
   ],
   "source": [
    "%load_ext autoreload\n",
    "%autoreload 2\n",
    "\n",
    "# imports\n",
    "import osmnx as ox # new `geometries` branch\n",
    "import geopandas as gpd\n",
    "import pandas as pd\n",
    "\n",
    "# configuration\n",
    "ox.utils.config(use_cache=True, log_console=True)\n",
    "pd.set_option('display.max_columns', None)\n",
    "\n",
    "# helper functions\n",
    "from helper_functions import carto_plot, comparison_report\n",
    "\n",
    "local_file_path = '/media/nick/WDBlue/osmnx/overpass_turbo_results/'"
   ]
  },
  {
   "cell_type": "markdown",
   "metadata": {},
   "source": [
    "## Service roads, Tokyo\n",
    "\n",
    "### overpass-turbo.eu wizard query and result:\n",
    "\n",
    "`(type:node or type:way or (type:relation and type=multipolygon)) and highway=service in Tokyo`\n",
    "\n",
    "- points: 0\n",
    "- lines: 48204\n",
    "- poligons: 37\n",
    "\n",
    "### Notes\n",
    "\n",
    "Unclear why overpass-turbo returns an extra LineString outside of the query polygon"
   ]
  },
  {
   "cell_type": "code",
   "execution_count": 4,
   "metadata": {},
   "outputs": [
    {
     "name": "stdout",
     "output_type": "stream",
     "text": [
      "CPU times: user 2min 2s, sys: 877 ms, total: 2min 3s\n",
      "Wall time: 2min 3s\n"
     ]
    }
   ],
   "source": [
    "%%time\n",
    "place='Tokyo, Japan'\n",
    "tags={'highway': 'service'}\n",
    "query_polygon = ox.geocode_to_gdf(place)\n",
    "osmnx_result = ox.geometries_from_place(place, tags=tags)"
   ]
  },
  {
   "cell_type": "code",
   "execution_count": 5,
   "metadata": {},
   "outputs": [
    {
     "name": "stdout",
     "output_type": "stream",
     "text": [
      "CPU times: user 8.22 s, sys: 276 ms, total: 8.5 s\n",
      "Wall time: 8.49 s\n"
     ]
    }
   ],
   "source": [
    "%%time\n",
    "overpassturbo_result = gpd.read_file(local_file_path + 'highway_service_Tokyo.geojson')"
   ]
  },
  {
   "cell_type": "code",
   "execution_count": 6,
   "metadata": {},
   "outputs": [
    {
     "name": "stdout",
     "output_type": "stream",
     "text": [
      "48240 ids that are in both GeoDataFrames\n",
      "\n",
      "1 ids that are not in both GeoDataFrames\n",
      "\n",
      "ids not in overpassturbo_result:\n",
      "[]\n",
      "ids not in osmnx_result:\n",
      "['https://www.openstreetmap.org/way/275466528'] \n",
      "\n",
      "            osmnx  overpass-turbo\n",
      "LineString  48203           48204\n",
      "Polygon        37              37\n"
     ]
    },
    {
     "name": "stderr",
     "output_type": "stream",
     "text": [
      "/home/nick/anaconda3/envs/osmnx-dev/lib/python3.6/site-packages/geopandas/plotting.py:532: UserWarning: The GeoDataFrame you are attempting to plot is empty. Nothing has been displayed.\n",
      "  UserWarning,\n"
     ]
    },
    {
     "data": {
      "image/png": "[encoded data removed]",
      "text/plain": [
       "<Figure size 576x576 with 1 Axes>"
      ]
     },
     "metadata": {
      "needs_background": "light"
     },
     "output_type": "display_data"
    }
   ],
   "source": [
    "comparison_report(osmnx_result, overpassturbo_result, query_polygon)"
   ]
  },
  {
   "cell_type": "markdown",
   "metadata": {},
   "source": [
    "# Trees, Delhi\n",
    "\n",
    "overpass-turbo.eu wizard query and result:\n",
    "\n",
    "`(type:node or type:way or (type:relation and type=multipolygon)) and natural=tree in Delhi`\n",
    "\n",
    "points:825, lines: 0, poligons:0\n",
    "\n",
    "#### Notes:\n",
    "\n",
    "None - exact match"
   ]
  },
  {
   "cell_type": "code",
   "execution_count": 7,
   "metadata": {},
   "outputs": [
    {
     "name": "stdout",
     "output_type": "stream",
     "text": [
      "CPU times: user 4 µs, sys: 0 ns, total: 4 µs\n",
      "Wall time: 9.3 µs\n"
     ]
    }
   ],
   "source": [
    "%time\n",
    "place='Delhi, India'\n",
    "tags={'natural': 'tree'}\n",
    "# run the query through geometries_from_place\n",
    "query_polygon = ox.geocode_to_gdf(place)\n",
    "osmnx_result = ox.geometries_from_place(place, tags=tags)"
   ]
  },
  {
   "cell_type": "code",
   "execution_count": 8,
   "metadata": {},
   "outputs": [],
   "source": [
    "# Read in the overpass-turbo.eu result\n",
    "overpassturbo_result = gpd.read_file(local_file_path + 'natural_tree_Delhi.geojson')"
   ]
  },
  {
   "cell_type": "code",
   "execution_count": 9,
   "metadata": {},
   "outputs": [
    {
     "name": "stdout",
     "output_type": "stream",
     "text": [
      "825 ids that are in both GeoDataFrames\n",
      "\n",
      "0 ids that are not in both GeoDataFrames\n",
      "\n",
      "ids not in overpassturbo_result:\n",
      "[]\n",
      "ids not in osmnx_result:\n",
      "[] \n",
      "\n",
      "       osmnx  overpass-turbo\n",
      "Point    825             825\n"
     ]
    }
   ],
   "source": [
    "comparison_report(osmnx_result, overpassturbo_result, query_polygon)"
   ]
  },
  {
   "cell_type": "markdown",
   "metadata": {},
   "source": [
    "# Streams and power towers, Shanghai\n",
    "\n",
    "overpass-turbo.eu wizard query and result:\n",
    "\n",
    "`(type:node or type:way or (type:relation and type=multipolygon)) and waterway=stream or power=tower in 'Shanghai, China'`\n",
    "\n",
    "points:9390, lines: 457, poligons:0\n",
    "\n",
    "#### Notes:\n",
    "\n",
    "None - exact match"
   ]
  },
  {
   "cell_type": "code",
   "execution_count": 10,
   "metadata": {},
   "outputs": [
    {
     "name": "stdout",
     "output_type": "stream",
     "text": [
      "CPU times: user 5.78 s, sys: 20.1 ms, total: 5.8 s\n",
      "Wall time: 5.81 s\n"
     ]
    }
   ],
   "source": [
    "%%time\n",
    "place='Shanghai, China'\n",
    "tags={'waterway': 'stream', 'power': 'tower'}\n",
    "# run the query through geometries_from_place\n",
    "query_polygon = ox.geocode_to_gdf(place)\n",
    "osmnx_result = ox.geometries_from_place(place, tags=tags)"
   ]
  },
  {
   "cell_type": "code",
   "execution_count": 11,
   "metadata": {},
   "outputs": [],
   "source": [
    "# Read in the overpass-turbo.eu results\n",
    "overpassturbo_result = gpd.read_file(local_file_path + 'stream_power_tower_Shanghai.geojson')"
   ]
  },
  {
   "cell_type": "code",
   "execution_count": 12,
   "metadata": {},
   "outputs": [
    {
     "name": "stdout",
     "output_type": "stream",
     "text": [
      "9847 ids that are in both GeoDataFrames\n",
      "\n",
      "0 ids that are not in both GeoDataFrames\n",
      "\n",
      "ids not in overpassturbo_result:\n",
      "[]\n",
      "ids not in osmnx_result:\n",
      "[] \n",
      "\n",
      "            osmnx  overpass-turbo\n",
      "Point        9390            9390\n",
      "LineString    457             457\n"
     ]
    }
   ],
   "source": [
    "comparison_report(osmnx_result, overpassturbo_result, query_polygon)"
   ]
  },
  {
   "cell_type": "markdown",
   "metadata": {},
   "source": [
    "# Walls and water, Sāo Paulo\n",
    "\n",
    "overpass-turbo.eu wizard query and result:\n",
    "\n",
    "`(type:node or type:way or (type:relation and type=multipolygon)) and (wall=* or natural=water) in 'Sāo Paulo'`\n",
    "\n",
    "- points: 0\n",
    "- lines: 4\n",
    "- poligons: 528\n",
    "\n",
    "#### Notes:\n",
    "\n",
    "The additional MultiPolygon created by osmnx shares a point with the query polygon"
   ]
  },
  {
   "cell_type": "code",
   "execution_count": 13,
   "metadata": {},
   "outputs": [
    {
     "name": "stdout",
     "output_type": "stream",
     "text": [
      "CPU times: user 1.34 s, sys: 4.03 ms, total: 1.35 s\n",
      "Wall time: 1.35 s\n"
     ]
    }
   ],
   "source": [
    "%%time\n",
    "place='Sāo Paulo, Brasil'\n",
    "tags={'wall': True, 'natural': 'water'}\n",
    "# run the query through geometries_from_place\n",
    "query_polygon = ox.geocode_to_gdf(place)\n",
    "osmnx_result = ox.geometries_from_place(place, tags=tags)"
   ]
  },
  {
   "cell_type": "code",
   "execution_count": 14,
   "metadata": {},
   "outputs": [],
   "source": [
    "# Read in the overpass-turbo.eu results\n",
    "overpassturbo_result = gpd.read_file(local_file_path + 'wall_natural_water_Sāo_Paulo.geojson')"
   ]
  },
  {
   "cell_type": "code",
   "execution_count": 15,
   "metadata": {},
   "outputs": [
    {
     "name": "stdout",
     "output_type": "stream",
     "text": [
      "532 ids that are in both GeoDataFrames\n",
      "\n",
      "1 ids that are not in both GeoDataFrames\n",
      "\n",
      "ids not in overpassturbo_result:\n",
      "['https://www.openstreetmap.org/relation/10991635']\n",
      "ids not in osmnx_result:\n",
      "[] \n",
      "\n",
      "              osmnx  overpass-turbo\n",
      "Polygon         527             527\n",
      "LineString        5               4\n",
      "MultiPolygon      1               1\n"
     ]
    },
    {
     "name": "stderr",
     "output_type": "stream",
     "text": [
      "/home/nick/anaconda3/envs/osmnx-dev/lib/python3.6/site-packages/geopandas/plotting.py:532: UserWarning: The GeoDataFrame you are attempting to plot is empty. Nothing has been displayed.\n",
      "  UserWarning,\n"
     ]
    },
    {
     "data": {
      "image/png": "[encoded data removed]",
      "text/plain": [
       "<Figure size 576x576 with 1 Axes>"
      ]
     },
     "metadata": {
      "needs_background": "light"
     },
     "output_type": "display_data"
    }
   ],
   "source": [
    "comparison_report(osmnx_result, overpassturbo_result, query_polygon)"
   ]
  },
  {
   "cell_type": "markdown",
   "metadata": {},
   "source": [
    "# Woods and residential land, Cairo\n",
    "\n",
    "overpass-turbo.eu wizard query and result:\n",
    "\n",
    "`(type:node or type:way or (type:relation and type=multipolygon)) and (natural=wood or landuse=residential) in 'Cairo'`\n",
    "\n",
    "- points: 11\n",
    "- lines: 0\n",
    "- poligons:1731\n",
    "\n",
    "#### Notes:\n",
    "\n",
    "None, exact match"
   ]
  },
  {
   "cell_type": "code",
   "execution_count": 16,
   "metadata": {},
   "outputs": [
    {
     "name": "stdout",
     "output_type": "stream",
     "text": [
      "CPU times: user 1.07 s, sys: 12 ms, total: 1.08 s\n",
      "Wall time: 1.09 s\n"
     ]
    }
   ],
   "source": [
    "%%time\n",
    "place='Cairo'\n",
    "tags={'natural': 'wood', 'landuse': 'residential'}\n",
    "# run the query through geometries_from_place\n",
    "query_polygon = ox.geocode_to_gdf(place)\n",
    "osmnx_result = ox.geometries_from_place(place, tags=tags)"
   ]
  },
  {
   "cell_type": "code",
   "execution_count": 17,
   "metadata": {},
   "outputs": [],
   "source": [
    "# Read in the overpass-turbo.eu results\n",
    "overpassturbo_result = gpd.read_file(local_file_path + 'wood_residential_Cairo.geojson')"
   ]
  },
  {
   "cell_type": "code",
   "execution_count": 18,
   "metadata": {},
   "outputs": [
    {
     "name": "stdout",
     "output_type": "stream",
     "text": [
      "1742 ids that are in both GeoDataFrames\n",
      "\n",
      "0 ids that are not in both GeoDataFrames\n",
      "\n",
      "ids not in overpassturbo_result:\n",
      "[]\n",
      "ids not in osmnx_result:\n",
      "[] \n",
      "\n",
      "         osmnx  overpass-turbo\n",
      "Polygon   1731            1731\n",
      "Point       11              11\n"
     ]
    }
   ],
   "source": [
    "comparison_report(osmnx_result, overpassturbo_result, query_polygon)"
   ]
  },
  {
   "cell_type": "markdown",
   "metadata": {},
   "source": [
    "## Parking, Mumbai\n",
    "\n",
    "### overpass-turbo.eu wizard query and result:\n",
    "\n",
    "`(type:node or type:way or (type:relation and type=multipolygon)) and (amenity=parking or service=parking_aisle) in 'Mumbai'`\n",
    "\n",
    "- points: 45\n",
    "- lines: 32\n",
    "- poligons: 88\n",
    "\n",
    "### Notes:\n",
    "\n",
    "None, exact match"
   ]
  },
  {
   "cell_type": "code",
   "execution_count": 19,
   "metadata": {},
   "outputs": [
    {
     "name": "stdout",
     "output_type": "stream",
     "text": [
      "CPU times: user 431 ms, sys: 4.04 ms, total: 435 ms\n",
      "Wall time: 437 ms\n"
     ]
    }
   ],
   "source": [
    "%%time\n",
    "place='Mumbai'\n",
    "tags={'amenity': 'parking', 'service': 'parking_aisle'}\n",
    "# run the query through geometries_from_place\n",
    "query_polygon = ox.geocode_to_gdf(place)\n",
    "osmnx_result = ox.geometries_from_place(place, tags=tags)"
   ]
  },
  {
   "cell_type": "code",
   "execution_count": 20,
   "metadata": {},
   "outputs": [],
   "source": [
    "# Read in the overpass-turbo.eu result\n",
    "overpassturbo_result = gpd.read_file(local_file_path + 'parking_service_parking_aisle_Mumbai.geojson')"
   ]
  },
  {
   "cell_type": "code",
   "execution_count": 21,
   "metadata": {},
   "outputs": [
    {
     "name": "stdout",
     "output_type": "stream",
     "text": [
      "165 ids that are in both GeoDataFrames\n",
      "\n",
      "0 ids that are not in both GeoDataFrames\n",
      "\n",
      "ids not in overpassturbo_result:\n",
      "[]\n",
      "ids not in osmnx_result:\n",
      "[] \n",
      "\n",
      "            osmnx  overpass-turbo\n",
      "Polygon        88              88\n",
      "Point          45              45\n",
      "LineString     32              32\n"
     ]
    }
   ],
   "source": [
    "comparison_report(osmnx_result, overpassturbo_result, query_polygon)"
   ]
  },
  {
   "cell_type": "markdown",
   "metadata": {},
   "source": [
    "## Paths and power poles, Beijing\n",
    "\n",
    "### overpass-turbo.eu wizard query and result:\n",
    "\n",
    "`(type:node or type:way or (type:relation and type=multipolygon)) and (highway=path or power=pole) in 'Beijing'`\n",
    "\n",
    "- points: 28\n",
    "- lines: 3743\n",
    "- poligons:0\n",
    "\n",
    "### Notes:\n",
    "\n",
    "None, exact match"
   ]
  },
  {
   "cell_type": "code",
   "execution_count": 23,
   "metadata": {},
   "outputs": [
    {
     "name": "stdout",
     "output_type": "stream",
     "text": [
      "CPU times: user 8.83 s, sys: 19.9 ms, total: 8.85 s\n",
      "Wall time: 8.86 s\n"
     ]
    }
   ],
   "source": [
    "%%time\n",
    "place='Beijing'\n",
    "tags={'highway': 'path', 'power': 'pole'}\n",
    "# run the query through geometries_from_place\n",
    "query_polygon = ox.geocode_to_gdf(place)\n",
    "osmnx_result = ox.geometries_from_place(place, tags=tags)"
   ]
  },
  {
   "cell_type": "code",
   "execution_count": 24,
   "metadata": {},
   "outputs": [],
   "source": [
    "# Read in the overpass-turbo.eu result\n",
    "overpassturbo_result = gpd.read_file(local_file_path + 'path_power_pole_Beijing.geojson')"
   ]
  },
  {
   "cell_type": "code",
   "execution_count": 25,
   "metadata": {},
   "outputs": [
    {
     "name": "stdout",
     "output_type": "stream",
     "text": [
      "3771 ids that are in both GeoDataFrames\n",
      "\n",
      "0 ids that are not in both GeoDataFrames\n",
      "\n",
      "ids not in overpassturbo_result:\n",
      "[]\n",
      "ids not in osmnx_result:\n",
      "[] \n",
      "\n",
      "            osmnx  overpass-turbo\n",
      "LineString   3743            3743\n",
      "Point          28              28\n"
     ]
    }
   ],
   "source": [
    "comparison_report(osmnx_result, overpassturbo_result, query_polygon)"
   ]
  },
  {
   "cell_type": "markdown",
   "metadata": {},
   "source": [
    "## Natural, residential, tertiary, Dhaka, Bangladesh\n",
    "\n",
    "### overpass-turbo.eu wizard query and result:\n",
    "\n",
    "`(type:node or type:way or (type:relation and type=multipolygon)) and (natural=* or landuse=residential or highway=tertiary) in 'Dhaka District'`\n",
    "\n",
    "- points: 8682\n",
    "- lines: 807\n",
    "- poligons: 5219\n",
    "\n",
    "### Notes\n",
    "\n",
    "- Some issues getting osmnx and overpass-turbo to geocode to the same query polygon\n",
    "- Not entirely clear why overpass-turbo includes the extra node"
   ]
  },
  {
   "cell_type": "code",
   "execution_count": 26,
   "metadata": {},
   "outputs": [
    {
     "name": "stdout",
     "output_type": "stream",
     "text": [
      "CPU times: user 3.67 s, sys: 55.9 ms, total: 3.73 s\n",
      "Wall time: 3.76 s\n"
     ]
    }
   ],
   "source": [
    "%%time\n",
    "place='Dhaka District, Bangladesh'\n",
    "tags={'natural': True, 'landuse': 'residential', 'highway': 'tertiary'}\n",
    "# run the query through geometries_from_place\n",
    "query_polygon = ox.geocode_to_gdf(place)\n",
    "osmnx_result = ox.geometries_from_place(place, tags=tags)"
   ]
  },
  {
   "cell_type": "code",
   "execution_count": 27,
   "metadata": {},
   "outputs": [],
   "source": [
    "# Read in the overpass-turbo.eu result\n",
    "overpassturbo_result = gpd.read_file(local_file_path + 'natural_residential_tertiary_Dhaka.geojson')"
   ]
  },
  {
   "cell_type": "code",
   "execution_count": 28,
   "metadata": {},
   "outputs": [
    {
     "name": "stdout",
     "output_type": "stream",
     "text": [
      "14707 ids that are in both GeoDataFrames\n",
      "\n",
      "1 ids that are not in both GeoDataFrames\n",
      "\n",
      "ids not in overpassturbo_result:\n",
      "[]\n",
      "ids not in osmnx_result:\n",
      "['https://www.openstreetmap.org/node/3512879150'] \n",
      "\n",
      "              osmnx  overpass-turbo\n",
      "Point          8681            8682\n",
      "Polygon        5216            5216\n",
      "LineString      807             807\n",
      "MultiPolygon      3               3\n"
     ]
    },
    {
     "name": "stderr",
     "output_type": "stream",
     "text": [
      "/home/nick/anaconda3/envs/osmnx-dev/lib/python3.6/site-packages/geopandas/plotting.py:532: UserWarning: The GeoDataFrame you are attempting to plot is empty. Nothing has been displayed.\n",
      "  UserWarning,\n"
     ]
    },
    {
     "data": {
      "image/png": "[encoded data removed]",
      "text/plain": [
       "<Figure size 576x576 with 1 Axes>"
      ]
     },
     "metadata": {
      "needs_background": "light"
     },
     "output_type": "display_data"
    }
   ],
   "source": [
    "comparison_report(osmnx_result, overpassturbo_result, query_polygon)"
   ]
  },
  {
   "cell_type": "code",
   "execution_count": 30,
   "metadata": {},
   "outputs": [
    {
     "data": {
      "text/html": [
       "<div>\n",
       "<style scoped>\n",
       "    .dataframe tbody tr th:only-of-type {\n",
       "        vertical-align: middle;\n",
       "    }\n",
       "\n",
       "    .dataframe tbody tr th {\n",
       "        vertical-align: top;\n",
       "    }\n",
       "\n",
       "    .dataframe thead th {\n",
       "        text-align: right;\n",
       "    }\n",
       "</style>\n",
       "<table border=\"1\" class=\"dataframe\">\n",
       "  <thead>\n",
       "    <tr style=\"text-align: right;\">\n",
       "      <th></th>\n",
       "      <th>id</th>\n",
       "      <th>@id</th>\n",
       "      <th>@relations</th>\n",
       "      <th>geometry</th>\n",
       "    </tr>\n",
       "  </thead>\n",
       "  <tbody>\n",
       "    <tr>\n",
       "      <th>6858</th>\n",
       "      <td>node/3512879150</td>\n",
       "      <td>node/3512879150</td>\n",
       "      <td>[ { \"role\": \"outer\", \"rel\": 3400205, \"reltags\"...</td>\n",
       "      <td>POINT (90.33267 23.76109)</td>\n",
       "    </tr>\n",
       "  </tbody>\n",
       "</table>\n",
       "</div>"
      ],
      "text/plain": [
       "                   id              @id  \\\n",
       "6858  node/3512879150  node/3512879150   \n",
       "\n",
       "                                             @relations  \\\n",
       "6858  [ { \"role\": \"outer\", \"rel\": 3400205, \"reltags\"...   \n",
       "\n",
       "                       geometry  \n",
       "6858  POINT (90.33267 23.76109)  "
      ]
     },
     "execution_count": 30,
     "metadata": {},
     "output_type": "execute_result"
    }
   ],
   "source": [
    "overpassturbo_result[overpassturbo_result['@id'] == 'node/3512879150'].dropna(axis=1)"
   ]
  },
  {
   "cell_type": "markdown",
   "metadata": {},
   "source": [
    "## Farmland, forest, bridge, Osaka\n",
    "\n",
    "### overpass-turbo.eu wizard query and result:\n",
    "\n",
    "`(type:node or type:way or (type:relation and type=multipolygon)) and (landuse=farmland or landuse=forest or bridge=yes) in 'Osaka'`\n",
    "\n",
    "- points: 3\n",
    "- lines: 11169\n",
    "- poligons: 6085\n",
    "\n",
    "### Notes\n",
    "\n",
    "- Additional polygon in osmnx results shares a boundary with the query polygon"
   ]
  },
  {
   "cell_type": "code",
   "execution_count": 31,
   "metadata": {},
   "outputs": [
    {
     "name": "stdout",
     "output_type": "stream",
     "text": [
      "CPU times: user 8.09 s, sys: 136 ms, total: 8.22 s\n",
      "Wall time: 8.27 s\n"
     ]
    }
   ],
   "source": [
    "%%time\n",
    "place='Osaka'\n",
    "tags={'landuse': ['farmland', 'forest'], 'bridge': 'yes'}\n",
    "# run the query through geometries_from_place\n",
    "query_polygon = ox.geocode_to_gdf(place)\n",
    "osmnx_result = ox.geometries_from_place(place, tags=tags)"
   ]
  },
  {
   "cell_type": "code",
   "execution_count": 32,
   "metadata": {},
   "outputs": [],
   "source": [
    "# Read in the overpass-turbo.eu result\n",
    "overpassturbo_result = gpd.read_file(local_file_path + 'farmland_forest_bridge_Osaka.geojson')"
   ]
  },
  {
   "cell_type": "code",
   "execution_count": 33,
   "metadata": {},
   "outputs": [
    {
     "name": "stdout",
     "output_type": "stream",
     "text": [
      "17257 ids that are in both GeoDataFrames\n",
      "\n",
      "1 ids that are not in both GeoDataFrames\n",
      "\n",
      "ids not in overpassturbo_result:\n",
      "['https://www.openstreetmap.org/way/53203179']\n",
      "ids not in osmnx_result:\n",
      "[] \n",
      "\n",
      "              osmnx  overpass-turbo\n",
      "LineString    11169           11169\n",
      "Polygon        6080            6079\n",
      "MultiPolygon      6               6\n",
      "Point             3               3\n"
     ]
    },
    {
     "name": "stderr",
     "output_type": "stream",
     "text": [
      "/home/nick/anaconda3/envs/osmnx-dev/lib/python3.6/site-packages/geopandas/plotting.py:532: UserWarning: The GeoDataFrame you are attempting to plot is empty. Nothing has been displayed.\n",
      "  UserWarning,\n"
     ]
    },
    {
     "data": {
      "image/png": "[encoded data removed]",
      "text/plain": [
       "<Figure size 576x576 with 1 Axes>"
      ]
     },
     "metadata": {
      "needs_background": "light"
     },
     "output_type": "display_data"
    }
   ],
   "source": [
    "comparison_report(osmnx_result, overpassturbo_result, query_polygon)"
   ]
  },
  {
   "cell_type": "markdown",
   "metadata": {},
   "source": [
    "## Cafe, grass, New York City\n",
    "\n",
    "### overpass-turbo.eu wizard query and result:\n",
    "\n",
    "`(type:node or type:way or (type:relation and type=multipolygon)) and (highway=* or landuse=grass) in 'New York City'`\n",
    "\n",
    "- points: 1580\n",
    "- lines: 5\n",
    "- poligons: 3184\n",
    "\n",
    "### Notes\n",
    "\n",
    "- The geometries missing from the osmnx result are part of a multipolygon relation but are not tagged with `role=outer`"
   ]
  },
  {
   "cell_type": "code",
   "execution_count": 34,
   "metadata": {},
   "outputs": [
    {
     "name": "stdout",
     "output_type": "stream",
     "text": [
      "CPU times: user 1.65 s, sys: 12 ms, total: 1.66 s\n",
      "Wall time: 1.68 s\n"
     ]
    }
   ],
   "source": [
    "%%time\n",
    "place='New York City'\n",
    "tags={'amenity': 'cafe', 'landuse': 'grass'}\n",
    "# run the query through geometries_from_place\n",
    "query_polygon = ox.geocode_to_gdf(place)\n",
    "osmnx_result = ox.geometries_from_place(place, tags=tags)"
   ]
  },
  {
   "cell_type": "code",
   "execution_count": 35,
   "metadata": {},
   "outputs": [],
   "source": [
    "# Read in the overpass-turbo.eu result\n",
    "overpassturbo_result = gpd.read_file(local_file_path + 'cafe_grass_New_York_City.geojson')"
   ]
  },
  {
   "cell_type": "code",
   "execution_count": 37,
   "metadata": {},
   "outputs": [
    {
     "name": "stdout",
     "output_type": "stream",
     "text": [
      "4764 ids that are in both GeoDataFrames\n",
      "\n",
      "5 ids that are not in both GeoDataFrames\n",
      "\n",
      "ids not in overpassturbo_result:\n",
      "[]\n",
      "ids not in osmnx_result:\n",
      "['https://www.openstreetmap.org/way/387468103', 'https://www.openstreetmap.org/way/387468104', 'https://www.openstreetmap.org/way/387468723', 'https://www.openstreetmap.org/way/387468724', 'https://www.openstreetmap.org/way/478534136'] \n",
      "\n",
      "               osmnx  overpass-turbo\n",
      "Polygon       3175.0            3170\n",
      "Point         1580.0            1580\n",
      "MultiPolygon     9.0              14\n",
      "LineString       NaN               5\n"
     ]
    },
    {
     "name": "stderr",
     "output_type": "stream",
     "text": [
      "/home/nick/anaconda3/envs/osmnx-dev/lib/python3.6/site-packages/geopandas/plotting.py:532: UserWarning: The GeoDataFrame you are attempting to plot is empty. Nothing has been displayed.\n",
      "  UserWarning,\n"
     ]
    },
    {
     "data": {
      "image/png": "[encoded data removed]",
      "text/plain": [
       "<Figure size 576x576 with 1 Axes>"
      ]
     },
     "metadata": {
      "needs_background": "light"
     },
     "output_type": "display_data"
    }
   ],
   "source": [
    "comparison_report(osmnx_result, overpassturbo_result, query_polygon)"
   ]
  },
  {
   "cell_type": "markdown",
   "metadata": {},
   "source": [
    "## Nightclub, New Alresford, Hampshire\n",
    "\n",
    "### overpass-turbo.eu wizard query and result:\n",
    "\n",
    "`(type:node or type:way or (type:relation and type=multipolygon)) and (amenity=nightclub) in 'New Alresford, Hampshire'`\n",
    "\n",
    "- points: 0\n",
    "- lines: 0\n",
    "- poligons: 0\n",
    "\n",
    "### Notes\n",
    "\n",
    "Testing creation of empty GeoDataFrame from empty overpass response"
   ]
  },
  {
   "cell_type": "code",
   "execution_count": 38,
   "metadata": {},
   "outputs": [
    {
     "name": "stdout",
     "output_type": "stream",
     "text": [
      "CPU times: user 222 ms, sys: 4.1 ms, total: 226 ms\n",
      "Wall time: 227 ms\n"
     ]
    }
   ],
   "source": [
    "%%time\n",
    "place='New Alresford, Hampshire'\n",
    "tags={'amenity': 'nightclub'}\n",
    "# run the query through gdf_from_place and count geometries\n",
    "query_polygon = ox.geocode_to_gdf(place)\n",
    "osmnx_result = ox.geometries_from_place(place, tags=tags)"
   ]
  },
  {
   "cell_type": "code",
   "execution_count": 39,
   "metadata": {},
   "outputs": [
    {
     "data": {
      "text/html": [
       "<div>\n",
       "<style scoped>\n",
       "    .dataframe tbody tr th:only-of-type {\n",
       "        vertical-align: middle;\n",
       "    }\n",
       "\n",
       "    .dataframe tbody tr th {\n",
       "        vertical-align: top;\n",
       "    }\n",
       "\n",
       "    .dataframe thead th {\n",
       "        text-align: right;\n",
       "    }\n",
       "</style>\n",
       "<table border=\"1\" class=\"dataframe\">\n",
       "  <thead>\n",
       "    <tr style=\"text-align: right;\">\n",
       "      <th></th>\n",
       "      <th>geometry</th>\n",
       "    </tr>\n",
       "  </thead>\n",
       "  <tbody>\n",
       "  </tbody>\n",
       "</table>\n",
       "</div>"
      ],
      "text/plain": [
       "Empty GeoDataFrame\n",
       "Columns: [geometry]\n",
       "Index: []"
      ]
     },
     "execution_count": 39,
     "metadata": {},
     "output_type": "execute_result"
    }
   ],
   "source": [
    "osmnx_result"
   ]
  },
  {
   "cell_type": "markdown",
   "metadata": {},
   "source": [
    "## Place, Mozambique\n",
    "\n",
    "`(type:node or type:way or (type:relation and type=multipolygon)) and place=* in \"Mozambique\"`\n",
    "\n",
    "- points: 2338\n",
    "- lines: 15\n",
    "- polygons: 971\n",
    "\n",
    "### Notes\n",
    "- Slow because osmnx generates 589 queries to the overpass API due to the size of Mozambique\n",
    "- The spatial indexing takes about as long again\n",
    "- At the end, the amount of data recieved is very small\n",
    "- Potentially not a very efficient way to make this kind of query\n",
    "- In terms of accuracy it's very good"
   ]
  },
  {
   "cell_type": "code",
   "execution_count": null,
   "metadata": {},
   "outputs": [],
   "source": [
    "boundary = ox.geocode_to_gdf('Mozambique')\n",
    "boundary_polygon = boundary.loc[0,'geometry']\n",
    "\n",
    "osmnx_result = ox.geometries_from_polygon(boundary_polygon, tags={'place': True})\n",
    "osmnx_result.plot()"
   ]
  },
  {
   "cell_type": "code",
   "execution_count": null,
   "metadata": {},
   "outputs": [],
   "source": [
    "# Read in the overpass-turbo.eu results and count geometries\n",
    "overpassturbo_result = gpd.read_file(local_file_path + 'place_Mozambique.geojson')"
   ]
  },
  {
   "cell_type": "code",
   "execution_count": null,
   "metadata": {},
   "outputs": [],
   "source": [
    "comparison_report(osmnx_result, overpassturbo_result, query_polygon)"
   ]
  },
  {
   "cell_type": "markdown",
   "metadata": {},
   "source": [
    "## Place, Naxos, Greece\n",
    "\n",
    "`(type:node or type:way or (type:relation and type=multipolygon)) and place=* in \"Naxos, Greece\"`\n",
    "\n",
    "- points: 67\n",
    "- lines: 1\n",
    "- polygons: 1\n",
    "\n",
    "### Notes"
   ]
  },
  {
   "cell_type": "code",
   "execution_count": null,
   "metadata": {},
   "outputs": [],
   "source": [
    "query_polygon = ox.geocode_to_gdf('Naxos, Greece')\n",
    "polygon = query_polygon.loc[0,'geometry']"
   ]
  },
  {
   "cell_type": "code",
   "execution_count": null,
   "metadata": {},
   "outputs": [],
   "source": [
    "osmnx_result = ox.geometries_from_polygon(polygon, tags={'place': True})"
   ]
  },
  {
   "cell_type": "code",
   "execution_count": null,
   "metadata": {},
   "outputs": [],
   "source": [
    "# Read in the overpass-turbo.eu results and count geometries\n",
    "overpassturbo_result = gpd.read_file(local_file_path + 'place_Naxos_Greece.geojson')"
   ]
  },
  {
   "cell_type": "code",
   "execution_count": null,
   "metadata": {},
   "outputs": [],
   "source": [
    "comparison_report(osmnx_result, overpassturbo_result, query_polygon)"
   ]
  },
  {
   "cell_type": "code",
   "execution_count": null,
   "metadata": {},
   "outputs": [],
   "source": [
    "fig, ax = carto_plot(osmnx_result, left=25.3, right=25.7, bottom=36.9, top=37.25)\n",
    "ax.set_facecolor('#aad3df')"
   ]
  },
  {
   "cell_type": "code",
   "execution_count": null,
   "metadata": {},
   "outputs": [],
   "source": [
    "osmnx_result.plot()"
   ]
  },
  {
   "cell_type": "code",
   "execution_count": null,
   "metadata": {},
   "outputs": [],
   "source": [
    "overpassturbo_result.plot()"
   ]
  },
  {
   "cell_type": "code",
   "execution_count": null,
   "metadata": {},
   "outputs": [],
   "source": [
    "osmnx_result[osmnx_result['geometry'].geom_type.isin(['MultiPolygon'])].dropna(axis=1)"
   ]
  }
 ],
 "metadata": {
  "kernelspec": {
   "display_name": "Python 3",
   "language": "python",
   "name": "python3"
  },
  "language_info": {
   "codemirror_mode": {
    "name": "ipython",
    "version": 3
   },
   "file_extension": ".py",
   "mimetype": "text/x-python",
   "name": "python",
   "nbconvert_exporter": "python",
   "pygments_lexer": "ipython3",
   "version": "3.6.10"
  }
 },
 "nbformat": 4,
 "nbformat_minor": 4
}
