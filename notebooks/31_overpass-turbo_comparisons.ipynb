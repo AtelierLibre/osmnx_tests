{
 "cells": [
  {
   "cell_type": "markdown",
   "metadata": {},
   "source": [
    "# 31 overpass-turbo.eu comparisons\n",
    "\n",
    "***2 Sep 2020***\n",
    "\n",
    "This notebook compares results from osmnx's new `geometries_from_XXXX()` functions to results running the same query on https://overpass-turbo.eu.\n",
    "\n",
    "### Notes:\n",
    "\n",
    "- OSMnx only processes multipolygon relations. The equivalent query on overpass-turbo is:\n",
    "`(type:node or type:way or (type:relation and type=multipolygon)) and amenity=school in Berlin`\n",
    "- The polygon results on the overpass-turbo homepage include polygons and multipolygons\n",
    "- OSMnx will only assemble MultiPolygons where member geometries are acurately tagged with a `role`\n",
    "- Potentially worth doing a bit more work to understand coastlines"
   ]
  },
  {
   "cell_type": "code",
   "execution_count": 1,
   "metadata": {},
   "outputs": [],
   "source": [
    "%load_ext autoreload\n",
    "%autoreload 2\n",
    "\n",
    "# imports\n",
    "import osmnx as ox # new `geometries` branch\n",
    "import geopandas as gpd\n",
    "import pandas as pd\n",
    "\n",
    "# configuration\n",
    "ox.utils.config(use_cache=True, log_console=True)\n",
    "pd.set_option('display.max_columns', None)\n",
    "\n",
    "# helper functions\n",
    "from helper_functions import carto_plot, comparison_report\n",
    "\n",
    "local_file_path = '/media/nick/WDBlue/osmnx/overpass_turbo_results/'"
   ]
  },
  {
   "cell_type": "markdown",
   "metadata": {},
   "source": [
    "## Service roads, Tokyo\n",
    "\n",
    "### overpass-turbo.eu wizard query and result:\n",
    "\n",
    "`(type:node or type:way or (type:relation and type=multipolygon)) and highway=service in Tokyo`\n",
    "\n",
    "- points: 0\n",
    "- lines: 48204\n",
    "- poligons: 37\n",
    "\n",
    "### Notes\n",
    "\n",
    "Unclear why overpass-turbo returns an extra LineString outside of the query polygon"
   ]
  },
  {
   "cell_type": "code",
   "execution_count": 2,
   "metadata": {},
   "outputs": [
    {
     "name": "stdout",
     "output_type": "stream",
     "text": [
      "CPU times: user 1min 55s, sys: 981 ms, total: 1min 56s\n",
      "Wall time: 1min 56s\n"
     ]
    }
   ],
   "source": [
    "%%time\n",
    "place='Tokyo, Japan'\n",
    "tags={'highway': 'service'}\n",
    "query_polygon = ox.geocode_to_gdf(place)\n",
    "osmnx_result = ox.geometries_from_place(place, tags=tags)"
   ]
  },
  {
   "cell_type": "code",
   "execution_count": 3,
   "metadata": {},
   "outputs": [
    {
     "name": "stdout",
     "output_type": "stream",
     "text": [
      "CPU times: user 8 s, sys: 260 ms, total: 8.26 s\n",
      "Wall time: 8.26 s\n"
     ]
    }
   ],
   "source": [
    "%%time\n",
    "overpassturbo_result = gpd.read_file(local_file_path + 'highway_service_Tokyo.geojson')"
   ]
  },
  {
   "cell_type": "code",
   "execution_count": 4,
   "metadata": {},
   "outputs": [
    {
     "name": "stdout",
     "output_type": "stream",
     "text": [
      "48240 ids that are in both GeoDataFrames\n",
      "\n",
      "1 ids that are not in both GeoDataFrames\n",
      "\n",
      "ids not in overpassturbo_result:\n",
      "[]\n",
      "ids not in osmnx_result:\n",
      "['https://www.openstreetmap.org/way/275466528'] \n",
      "\n",
      "            osmnx  overpass-turbo\n",
      "LineString  48203           48204\n",
      "Polygon        37              37\n"
     ]
    },
    {
     "name": "stderr",
     "output_type": "stream",
     "text": [
      "/home/nick/anaconda3/envs/osmnx-dev/lib/python3.6/site-packages/geopandas/plotting.py:532: UserWarning: The GeoDataFrame you are attempting to plot is empty. Nothing has been displayed.\n",
      "  UserWarning,\n"
     ]
    },
    {
     "data": {
      "image/png": "[encoded data removed]",
      "text/plain": [
       "<Figure size 576x576 with 1 Axes>"
      ]
     },
     "metadata": {
      "needs_background": "light"
     },
     "output_type": "display_data"
    }
   ],
   "source": [
    "comparison_report(osmnx_result, overpassturbo_result, query_polygon)"
   ]
  },
  {
   "cell_type": "markdown",
   "metadata": {},
   "source": [
    "# Trees, Delhi\n",
    "\n",
    "overpass-turbo.eu wizard query and result:\n",
    "\n",
    "`(type:node or type:way or (type:relation and type=multipolygon)) and natural=tree in Delhi`\n",
    "\n",
    "points:825, lines: 0, poligons:0\n",
    "\n",
    "#### Notes:\n",
    "\n",
    "None - exact match"
   ]
  },
  {
   "cell_type": "code",
   "execution_count": 5,
   "metadata": {},
   "outputs": [
    {
     "name": "stdout",
     "output_type": "stream",
     "text": [
      "CPU times: user 3 µs, sys: 0 ns, total: 3 µs\n",
      "Wall time: 6.68 µs\n"
     ]
    }
   ],
   "source": [
    "%time\n",
    "place='Delhi, India'\n",
    "tags={'natural': 'tree'}\n",
    "# run the query through geometries_from_place\n",
    "query_polygon = ox.geocode_to_gdf(place)\n",
    "osmnx_result = ox.geometries_from_place(place, tags=tags)"
   ]
  },
  {
   "cell_type": "code",
   "execution_count": 6,
   "metadata": {},
   "outputs": [],
   "source": [
    "# Read in the overpass-turbo.eu result\n",
    "overpassturbo_result = gpd.read_file(local_file_path + 'natural_tree_Delhi.geojson')"
   ]
  },
  {
   "cell_type": "code",
   "execution_count": 7,
   "metadata": {},
   "outputs": [
    {
     "name": "stdout",
     "output_type": "stream",
     "text": [
      "825 ids that are in both GeoDataFrames\n",
      "\n",
      "0 ids that are not in both GeoDataFrames\n",
      "\n",
      "ids not in overpassturbo_result:\n",
      "[]\n",
      "ids not in osmnx_result:\n",
      "[] \n",
      "\n",
      "       osmnx  overpass-turbo\n",
      "Point    825             825\n"
     ]
    }
   ],
   "source": [
    "comparison_report(osmnx_result, overpassturbo_result, query_polygon)"
   ]
  },
  {
   "cell_type": "markdown",
   "metadata": {},
   "source": [
    "# Streams and power towers, Shanghai\n",
    "\n",
    "overpass-turbo.eu wizard query and result:\n",
    "\n",
    "`(type:node or type:way or (type:relation and type=multipolygon)) and waterway=stream or power=tower in 'Shanghai, China'`\n",
    "\n",
    "points:9390, lines: 457, poligons:0\n",
    "\n",
    "#### Notes:\n",
    "\n",
    "None - exact match"
   ]
  },
  {
   "cell_type": "code",
   "execution_count": 8,
   "metadata": {},
   "outputs": [
    {
     "name": "stdout",
     "output_type": "stream",
     "text": [
      "CPU times: user 6.52 s, sys: 8.03 ms, total: 6.53 s\n",
      "Wall time: 6.54 s\n"
     ]
    }
   ],
   "source": [
    "%%time\n",
    "place='Shanghai, China'\n",
    "tags={'waterway': 'stream', 'power': 'tower'}\n",
    "# run the query through geometries_from_place\n",
    "query_polygon = ox.geocode_to_gdf(place)\n",
    "osmnx_result = ox.geometries_from_place(place, tags=tags)"
   ]
  },
  {
   "cell_type": "code",
   "execution_count": 9,
   "metadata": {},
   "outputs": [],
   "source": [
    "# Read in the overpass-turbo.eu results\n",
    "overpassturbo_result = gpd.read_file(local_file_path + 'stream_power_tower_Shanghai.geojson')"
   ]
  },
  {
   "cell_type": "code",
   "execution_count": 10,
   "metadata": {},
   "outputs": [
    {
     "name": "stdout",
     "output_type": "stream",
     "text": [
      "9847 ids that are in both GeoDataFrames\n",
      "\n",
      "0 ids that are not in both GeoDataFrames\n",
      "\n",
      "ids not in overpassturbo_result:\n",
      "[]\n",
      "ids not in osmnx_result:\n",
      "[] \n",
      "\n",
      "            osmnx  overpass-turbo\n",
      "Point        9390            9390\n",
      "LineString    457             457\n"
     ]
    }
   ],
   "source": [
    "comparison_report(osmnx_result, overpassturbo_result, query_polygon)"
   ]
  },
  {
   "cell_type": "markdown",
   "metadata": {},
   "source": [
    "# Walls and water, Sāo Paulo\n",
    "\n",
    "overpass-turbo.eu wizard query and result:\n",
    "\n",
    "`(type:node or type:way or (type:relation and type=multipolygon)) and (wall=* or natural=water) in 'Sāo Paulo'`\n",
    "\n",
    "- points: 0\n",
    "- lines: 4\n",
    "- poligons: 528\n",
    "\n",
    "#### Notes:\n",
    "\n",
    "The additional MultiPolygon created by osmnx shares a point with the query polygon"
   ]
  },
  {
   "cell_type": "code",
   "execution_count": 11,
   "metadata": {},
   "outputs": [
    {
     "name": "stdout",
     "output_type": "stream",
     "text": [
      "CPU times: user 1.31 s, sys: 8.07 ms, total: 1.32 s\n",
      "Wall time: 1.33 s\n"
     ]
    }
   ],
   "source": [
    "%%time\n",
    "place='Sāo Paulo, Brasil'\n",
    "tags={'wall': True, 'natural': 'water'}\n",
    "# run the query through geometries_from_place\n",
    "query_polygon = ox.geocode_to_gdf(place)\n",
    "osmnx_result = ox.geometries_from_place(place, tags=tags)"
   ]
  },
  {
   "cell_type": "code",
   "execution_count": 12,
   "metadata": {},
   "outputs": [],
   "source": [
    "# Read in the overpass-turbo.eu results\n",
    "overpassturbo_result = gpd.read_file(local_file_path + 'wall_natural_water_Sāo_Paulo.geojson')"
   ]
  },
  {
   "cell_type": "code",
   "execution_count": 13,
   "metadata": {},
   "outputs": [
    {
     "name": "stdout",
     "output_type": "stream",
     "text": [
      "532 ids that are in both GeoDataFrames\n",
      "\n",
      "1 ids that are not in both GeoDataFrames\n",
      "\n",
      "ids not in overpassturbo_result:\n",
      "['https://www.openstreetmap.org/relation/10991635']\n",
      "ids not in osmnx_result:\n",
      "[] \n",
      "\n",
      "              osmnx  overpass-turbo\n",
      "Polygon         527             527\n",
      "LineString        5               4\n",
      "MultiPolygon      1               1\n"
     ]
    },
    {
     "name": "stderr",
     "output_type": "stream",
     "text": [
      "/home/nick/anaconda3/envs/osmnx-dev/lib/python3.6/site-packages/geopandas/plotting.py:532: UserWarning: The GeoDataFrame you are attempting to plot is empty. Nothing has been displayed.\n",
      "  UserWarning,\n"
     ]
    },
    {
     "data": {
      "image/png": "[encoded data removed]",
      "text/plain": [
       "<Figure size 576x576 with 1 Axes>"
      ]
     },
     "metadata": {
      "needs_background": "light"
     },
     "output_type": "display_data"
    }
   ],
   "source": [
    "comparison_report(osmnx_result, overpassturbo_result, query_polygon)"
   ]
  },
  {
   "cell_type": "markdown",
   "metadata": {},
   "source": [
    "# Woods and residential land, Cairo\n",
    "\n",
    "overpass-turbo.eu wizard query and result:\n",
    "\n",
    "`(type:node or type:way or (type:relation and type=multipolygon)) and (natural=wood or landuse=residential) in 'Cairo'`\n",
    "\n",
    "- points: 11\n",
    "- lines: 0\n",
    "- poligons:1731\n",
    "\n",
    "#### Notes:\n",
    "\n",
    "None, exact match"
   ]
  },
  {
   "cell_type": "code",
   "execution_count": 14,
   "metadata": {},
   "outputs": [
    {
     "name": "stdout",
     "output_type": "stream",
     "text": [
      "CPU times: user 1.24 s, sys: 12 ms, total: 1.25 s\n",
      "Wall time: 1.26 s\n"
     ]
    }
   ],
   "source": [
    "%%time\n",
    "place='Cairo'\n",
    "tags={'natural': 'wood', 'landuse': 'residential'}\n",
    "# run the query through geometries_from_place\n",
    "query_polygon = ox.geocode_to_gdf(place)\n",
    "osmnx_result = ox.geometries_from_place(place, tags=tags)"
   ]
  },
  {
   "cell_type": "code",
   "execution_count": 15,
   "metadata": {},
   "outputs": [],
   "source": [
    "# Read in the overpass-turbo.eu results\n",
    "overpassturbo_result = gpd.read_file(local_file_path + 'wood_residential_Cairo.geojson')"
   ]
  },
  {
   "cell_type": "code",
   "execution_count": 16,
   "metadata": {},
   "outputs": [
    {
     "name": "stdout",
     "output_type": "stream",
     "text": [
      "1742 ids that are in both GeoDataFrames\n",
      "\n",
      "0 ids that are not in both GeoDataFrames\n",
      "\n",
      "ids not in overpassturbo_result:\n",
      "[]\n",
      "ids not in osmnx_result:\n",
      "[] \n",
      "\n",
      "         osmnx  overpass-turbo\n",
      "Polygon   1731            1731\n",
      "Point       11              11\n"
     ]
    }
   ],
   "source": [
    "comparison_report(osmnx_result, overpassturbo_result, query_polygon)"
   ]
  },
  {
   "cell_type": "markdown",
   "metadata": {},
   "source": [
    "## Parking, Mumbai\n",
    "\n",
    "### overpass-turbo.eu wizard query and result:\n",
    "\n",
    "`(type:node or type:way or (type:relation and type=multipolygon)) and (amenity=parking or service=parking_aisle) in 'Mumbai'`\n",
    "\n",
    "- points: 45\n",
    "- lines: 32\n",
    "- poligons: 88\n",
    "\n",
    "### Notes:\n",
    "\n",
    "None, exact match"
   ]
  },
  {
   "cell_type": "code",
   "execution_count": 17,
   "metadata": {},
   "outputs": [
    {
     "name": "stdout",
     "output_type": "stream",
     "text": [
      "CPU times: user 478 ms, sys: 4.04 ms, total: 483 ms\n",
      "Wall time: 483 ms\n"
     ]
    }
   ],
   "source": [
    "%%time\n",
    "place='Mumbai'\n",
    "tags={'amenity': 'parking', 'service': 'parking_aisle'}\n",
    "# run the query through geometries_from_place\n",
    "query_polygon = ox.geocode_to_gdf(place)\n",
    "osmnx_result = ox.geometries_from_place(place, tags=tags)"
   ]
  },
  {
   "cell_type": "code",
   "execution_count": 18,
   "metadata": {},
   "outputs": [],
   "source": [
    "# Read in the overpass-turbo.eu result\n",
    "overpassturbo_result = gpd.read_file(local_file_path + 'parking_service_parking_aisle_Mumbai.geojson')"
   ]
  },
  {
   "cell_type": "code",
   "execution_count": 19,
   "metadata": {},
   "outputs": [
    {
     "name": "stdout",
     "output_type": "stream",
     "text": [
      "165 ids that are in both GeoDataFrames\n",
      "\n",
      "0 ids that are not in both GeoDataFrames\n",
      "\n",
      "ids not in overpassturbo_result:\n",
      "[]\n",
      "ids not in osmnx_result:\n",
      "[] \n",
      "\n",
      "            osmnx  overpass-turbo\n",
      "Polygon        88              88\n",
      "Point          45              45\n",
      "LineString     32              32\n"
     ]
    }
   ],
   "source": [
    "comparison_report(osmnx_result, overpassturbo_result, query_polygon)"
   ]
  },
  {
   "cell_type": "markdown",
   "metadata": {},
   "source": [
    "## Paths and power poles, Beijing\n",
    "\n",
    "### overpass-turbo.eu wizard query and result:\n",
    "\n",
    "`(type:node or type:way or (type:relation and type=multipolygon)) and (highway=path or power=pole) in 'Beijing'`\n",
    "\n",
    "- points: 28\n",
    "- lines: 3743\n",
    "- poligons:0\n",
    "\n",
    "### Notes:\n",
    "\n",
    "None, exact match"
   ]
  },
  {
   "cell_type": "code",
   "execution_count": 20,
   "metadata": {},
   "outputs": [
    {
     "name": "stdout",
     "output_type": "stream",
     "text": [
      "CPU times: user 8.14 s, sys: 12 ms, total: 8.15 s\n",
      "Wall time: 8.17 s\n"
     ]
    }
   ],
   "source": [
    "%%time\n",
    "place='Beijing'\n",
    "tags={'highway': 'path', 'power': 'pole'}\n",
    "# run the query through geometries_from_place\n",
    "query_polygon = ox.geocode_to_gdf(place)\n",
    "osmnx_result = ox.geometries_from_place(place, tags=tags)"
   ]
  },
  {
   "cell_type": "code",
   "execution_count": 21,
   "metadata": {},
   "outputs": [],
   "source": [
    "# Read in the overpass-turbo.eu result\n",
    "overpassturbo_result = gpd.read_file(local_file_path + 'path_power_pole_Beijing.geojson')"
   ]
  },
  {
   "cell_type": "code",
   "execution_count": 22,
   "metadata": {},
   "outputs": [
    {
     "name": "stdout",
     "output_type": "stream",
     "text": [
      "3771 ids that are in both GeoDataFrames\n",
      "\n",
      "0 ids that are not in both GeoDataFrames\n",
      "\n",
      "ids not in overpassturbo_result:\n",
      "[]\n",
      "ids not in osmnx_result:\n",
      "[] \n",
      "\n",
      "            osmnx  overpass-turbo\n",
      "LineString   3743            3743\n",
      "Point          28              28\n"
     ]
    }
   ],
   "source": [
    "comparison_report(osmnx_result, overpassturbo_result, query_polygon)"
   ]
  },
  {
   "cell_type": "markdown",
   "metadata": {},
   "source": [
    "## Natural, residential, tertiary, Dhaka, Bangladesh\n",
    "\n",
    "### overpass-turbo.eu wizard query and result:\n",
    "\n",
    "`(type:node or type:way or (type:relation and type=multipolygon)) and (natural=* or landuse=residential or highway=tertiary) in 'Dhaka District'`\n",
    "\n",
    "- points: 8682\n",
    "- lines: 807\n",
    "- poligons: 5219\n",
    "\n",
    "### Notes\n",
    "\n",
    "- Some issues getting osmnx and overpass-turbo to geocode to the same query polygon\n",
    "- Not entirely clear why overpass-turbo includes the extra node"
   ]
  },
  {
   "cell_type": "code",
   "execution_count": 23,
   "metadata": {},
   "outputs": [
    {
     "name": "stdout",
     "output_type": "stream",
     "text": [
      "CPU times: user 3.52 s, sys: 40.1 ms, total: 3.56 s\n",
      "Wall time: 3.58 s\n"
     ]
    }
   ],
   "source": [
    "%%time\n",
    "place='Dhaka District, Bangladesh'\n",
    "tags={'natural': True, 'landuse': 'residential', 'highway': 'tertiary'}\n",
    "# run the query through geometries_from_place\n",
    "query_polygon = ox.geocode_to_gdf(place)\n",
    "osmnx_result = ox.geometries_from_place(place, tags=tags)"
   ]
  },
  {
   "cell_type": "code",
   "execution_count": 24,
   "metadata": {},
   "outputs": [],
   "source": [
    "# Read in the overpass-turbo.eu result\n",
    "overpassturbo_result = gpd.read_file(local_file_path + 'natural_residential_tertiary_Dhaka.geojson')"
   ]
  },
  {
   "cell_type": "code",
   "execution_count": 25,
   "metadata": {},
   "outputs": [
    {
     "name": "stdout",
     "output_type": "stream",
     "text": [
      "14707 ids that are in both GeoDataFrames\n",
      "\n",
      "1 ids that are not in both GeoDataFrames\n",
      "\n",
      "ids not in overpassturbo_result:\n",
      "[]\n",
      "ids not in osmnx_result:\n",
      "['https://www.openstreetmap.org/node/3512879150'] \n",
      "\n",
      "              osmnx  overpass-turbo\n",
      "Point          8681            8682\n",
      "Polygon        5216            5216\n",
      "LineString      807             807\n",
      "MultiPolygon      3               3\n"
     ]
    },
    {
     "name": "stderr",
     "output_type": "stream",
     "text": [
      "/home/nick/anaconda3/envs/osmnx-dev/lib/python3.6/site-packages/geopandas/plotting.py:532: UserWarning: The GeoDataFrame you are attempting to plot is empty. Nothing has been displayed.\n",
      "  UserWarning,\n"
     ]
    },
    {
     "data": {
      "image/png": "[encoded data removed]",
      "text/plain": [
       "<Figure size 576x576 with 1 Axes>"
      ]
     },
     "metadata": {
      "needs_background": "light"
     },
     "output_type": "display_data"
    }
   ],
   "source": [
    "comparison_report(osmnx_result, overpassturbo_result, query_polygon)"
   ]
  },
  {
   "cell_type": "code",
   "execution_count": 26,
   "metadata": {},
   "outputs": [
    {
     "data": {
      "text/html": [
       "<div>\n",
       "<style scoped>\n",
       "    .dataframe tbody tr th:only-of-type {\n",
       "        vertical-align: middle;\n",
       "    }\n",
       "\n",
       "    .dataframe tbody tr th {\n",
       "        vertical-align: top;\n",
       "    }\n",
       "\n",
       "    .dataframe thead th {\n",
       "        text-align: right;\n",
       "    }\n",
       "</style>\n",
       "<table border=\"1\" class=\"dataframe\">\n",
       "  <thead>\n",
       "    <tr style=\"text-align: right;\">\n",
       "      <th></th>\n",
       "      <th>id</th>\n",
       "      <th>@id</th>\n",
       "      <th>@relations</th>\n",
       "      <th>geometry</th>\n",
       "    </tr>\n",
       "  </thead>\n",
       "  <tbody>\n",
       "    <tr>\n",
       "      <th>6858</th>\n",
       "      <td>node/3512879150</td>\n",
       "      <td>node/3512879150</td>\n",
       "      <td>[ { \"role\": \"outer\", \"rel\": 3400205, \"reltags\"...</td>\n",
       "      <td>POINT (90.33267 23.76109)</td>\n",
       "    </tr>\n",
       "  </tbody>\n",
       "</table>\n",
       "</div>"
      ],
      "text/plain": [
       "                   id              @id  \\\n",
       "6858  node/3512879150  node/3512879150   \n",
       "\n",
       "                                             @relations  \\\n",
       "6858  [ { \"role\": \"outer\", \"rel\": 3400205, \"reltags\"...   \n",
       "\n",
       "                       geometry  \n",
       "6858  POINT (90.33267 23.76109)  "
      ]
     },
     "execution_count": 26,
     "metadata": {},
     "output_type": "execute_result"
    }
   ],
   "source": [
    "overpassturbo_result[overpassturbo_result['@id'] == 'node/3512879150'].dropna(axis=1)"
   ]
  },
  {
   "cell_type": "markdown",
   "metadata": {},
   "source": [
    "## Farmland, forest, bridge, Osaka\n",
    "\n",
    "### overpass-turbo.eu wizard query and result:\n",
    "\n",
    "`(type:node or type:way or (type:relation and type=multipolygon)) and (landuse=farmland or landuse=forest or bridge=yes) in 'Osaka'`\n",
    "\n",
    "- points: 3\n",
    "- lines: 11169\n",
    "- poligons: 6085\n",
    "\n",
    "### Notes\n",
    "\n",
    "- Additional polygon in osmnx results shares a boundary with the query polygon"
   ]
  },
  {
   "cell_type": "code",
   "execution_count": 27,
   "metadata": {},
   "outputs": [
    {
     "name": "stdout",
     "output_type": "stream",
     "text": [
      "CPU times: user 8.54 s, sys: 280 ms, total: 8.82 s\n",
      "Wall time: 8.86 s\n"
     ]
    }
   ],
   "source": [
    "%%time\n",
    "place='Osaka'\n",
    "tags={'landuse': ['farmland', 'forest'], 'bridge': 'yes'}\n",
    "# run the query through geometries_from_place\n",
    "query_polygon = ox.geocode_to_gdf(place)\n",
    "osmnx_result = ox.geometries_from_place(place, tags=tags)"
   ]
  },
  {
   "cell_type": "code",
   "execution_count": 28,
   "metadata": {},
   "outputs": [],
   "source": [
    "# Read in the overpass-turbo.eu result\n",
    "overpassturbo_result = gpd.read_file(local_file_path + 'farmland_forest_bridge_Osaka.geojson')"
   ]
  },
  {
   "cell_type": "code",
   "execution_count": 29,
   "metadata": {},
   "outputs": [
    {
     "name": "stdout",
     "output_type": "stream",
     "text": [
      "17257 ids that are in both GeoDataFrames\n",
      "\n",
      "1 ids that are not in both GeoDataFrames\n",
      "\n",
      "ids not in overpassturbo_result:\n",
      "['https://www.openstreetmap.org/way/53203179']\n",
      "ids not in osmnx_result:\n",
      "[] \n",
      "\n",
      "              osmnx  overpass-turbo\n",
      "LineString    11169           11169\n",
      "Polygon        6080            6079\n",
      "MultiPolygon      6               6\n",
      "Point             3               3\n"
     ]
    },
    {
     "name": "stderr",
     "output_type": "stream",
     "text": [
      "/home/nick/anaconda3/envs/osmnx-dev/lib/python3.6/site-packages/geopandas/plotting.py:532: UserWarning: The GeoDataFrame you are attempting to plot is empty. Nothing has been displayed.\n",
      "  UserWarning,\n"
     ]
    },
    {
     "data": {
      "image/png": "[encoded data removed]",
      "text/plain": [
       "<Figure size 576x576 with 1 Axes>"
      ]
     },
     "metadata": {
      "needs_background": "light"
     },
     "output_type": "display_data"
    }
   ],
   "source": [
    "comparison_report(osmnx_result, overpassturbo_result, query_polygon)"
   ]
  },
  {
   "cell_type": "markdown",
   "metadata": {},
   "source": [
    "## Cafe, grass, New York City\n",
    "\n",
    "### overpass-turbo.eu wizard query and result:\n",
    "\n",
    "`(type:node or type:way or (type:relation and type=multipolygon)) and (highway=* or landuse=grass) in 'New York City'`\n",
    "\n",
    "- points: 1580\n",
    "- lines: 5\n",
    "- poligons: 3184\n",
    "\n",
    "### Notes\n",
    "\n",
    "- The geometries missing from the osmnx result are part of a multipolygon relation but are not tagged with `role=outer`"
   ]
  },
  {
   "cell_type": "code",
   "execution_count": 30,
   "metadata": {},
   "outputs": [
    {
     "name": "stdout",
     "output_type": "stream",
     "text": [
      "CPU times: user 2.61 s, sys: 16 ms, total: 2.62 s\n",
      "Wall time: 2.66 s\n"
     ]
    }
   ],
   "source": [
    "%%time\n",
    "place='New York City'\n",
    "tags={'amenity': 'cafe', 'landuse': 'grass'}\n",
    "# run the query through geometries_from_place\n",
    "query_polygon = ox.geocode_to_gdf(place)\n",
    "osmnx_result = ox.geometries_from_place(place, tags=tags)"
   ]
  },
  {
   "cell_type": "code",
   "execution_count": 31,
   "metadata": {},
   "outputs": [],
   "source": [
    "# Read in the overpass-turbo.eu result\n",
    "overpassturbo_result = gpd.read_file(local_file_path + 'cafe_grass_New_York_City.geojson')"
   ]
  },
  {
   "cell_type": "code",
   "execution_count": 32,
   "metadata": {},
   "outputs": [
    {
     "name": "stdout",
     "output_type": "stream",
     "text": [
      "4764 ids that are in both GeoDataFrames\n",
      "\n",
      "5 ids that are not in both GeoDataFrames\n",
      "\n",
      "ids not in overpassturbo_result:\n",
      "[]\n",
      "ids not in osmnx_result:\n",
      "['https://www.openstreetmap.org/way/387468724', 'https://www.openstreetmap.org/way/478534136', 'https://www.openstreetmap.org/way/387468723', 'https://www.openstreetmap.org/way/387468104', 'https://www.openstreetmap.org/way/387468103'] \n",
      "\n",
      "               osmnx  overpass-turbo\n",
      "Polygon       3175.0            3170\n",
      "Point         1580.0            1580\n",
      "MultiPolygon     9.0              14\n",
      "LineString       NaN               5\n"
     ]
    },
    {
     "name": "stderr",
     "output_type": "stream",
     "text": [
      "/home/nick/anaconda3/envs/osmnx-dev/lib/python3.6/site-packages/geopandas/plotting.py:532: UserWarning: The GeoDataFrame you are attempting to plot is empty. Nothing has been displayed.\n",
      "  UserWarning,\n"
     ]
    },
    {
     "data": {
      "image/png": "[encoded data removed]",
      "text/plain": [
       "<Figure size 576x576 with 1 Axes>"
      ]
     },
     "metadata": {
      "needs_background": "light"
     },
     "output_type": "display_data"
    }
   ],
   "source": [
    "comparison_report(osmnx_result, overpassturbo_result, query_polygon)"
   ]
  },
  {
   "cell_type": "markdown",
   "metadata": {},
   "source": [
    "## Nightclub, New Alresford, Hampshire\n",
    "\n",
    "### overpass-turbo.eu wizard query and result:\n",
    "\n",
    "`(type:node or type:way or (type:relation and type=multipolygon)) and (amenity=nightclub) in 'New Alresford, Hampshire'`\n",
    "\n",
    "- points: 0\n",
    "- lines: 0\n",
    "- poligons: 0\n",
    "\n",
    "### Notes\n",
    "\n",
    "Testing creation of empty GeoDataFrame from empty overpass response"
   ]
  },
  {
   "cell_type": "code",
   "execution_count": 33,
   "metadata": {},
   "outputs": [
    {
     "name": "stdout",
     "output_type": "stream",
     "text": [
      "CPU times: user 245 ms, sys: 12 ms, total: 257 ms\n",
      "Wall time: 258 ms\n"
     ]
    }
   ],
   "source": [
    "%%time\n",
    "place='New Alresford, Hampshire'\n",
    "tags={'amenity': 'nightclub'}\n",
    "# run the query through gdf_from_place and count geometries\n",
    "query_polygon = ox.geocode_to_gdf(place)\n",
    "osmnx_result = ox.geometries_from_place(place, tags=tags)"
   ]
  },
  {
   "cell_type": "code",
   "execution_count": 34,
   "metadata": {},
   "outputs": [
    {
     "data": {
      "text/html": [
       "<div>\n",
       "<style scoped>\n",
       "    .dataframe tbody tr th:only-of-type {\n",
       "        vertical-align: middle;\n",
       "    }\n",
       "\n",
       "    .dataframe tbody tr th {\n",
       "        vertical-align: top;\n",
       "    }\n",
       "\n",
       "    .dataframe thead th {\n",
       "        text-align: right;\n",
       "    }\n",
       "</style>\n",
       "<table border=\"1\" class=\"dataframe\">\n",
       "  <thead>\n",
       "    <tr style=\"text-align: right;\">\n",
       "      <th></th>\n",
       "      <th>geometry</th>\n",
       "    </tr>\n",
       "  </thead>\n",
       "  <tbody>\n",
       "  </tbody>\n",
       "</table>\n",
       "</div>"
      ],
      "text/plain": [
       "Empty GeoDataFrame\n",
       "Columns: [geometry]\n",
       "Index: []"
      ]
     },
     "execution_count": 34,
     "metadata": {},
     "output_type": "execute_result"
    }
   ],
   "source": [
    "osmnx_result"
   ]
  },
  {
   "cell_type": "markdown",
   "metadata": {},
   "source": [
    "## Place, Mozambique\n",
    "\n",
    "`(type:node or type:way or (type:relation and type=multipolygon)) and place=* in \"Mozambique\"`\n",
    "\n",
    "- points: 2338\n",
    "- lines: 15\n",
    "- polygons: 971\n",
    "\n",
    "### Notes\n",
    "- Slow because osmnx generates 589 queries to the overpass API due to the size of Mozambique\n",
    "- The spatial indexing takes about as long again\n",
    "- At the end, the amount of data recieved is very small\n",
    "- Potentially not a very efficient way to make this kind of query\n",
    "- In terms of accuracy it's very good"
   ]
  },
  {
   "cell_type": "code",
   "execution_count": 35,
   "metadata": {},
   "outputs": [
    {
     "data": {
      "text/plain": [
       "<AxesSubplot:>"
      ]
     },
     "execution_count": 35,
     "metadata": {},
     "output_type": "execute_result"
    },
    {
     "data": {
      "image/png": "[encoded data removed]",
      "text/plain": [
       "<Figure size 432x288 with 1 Axes>"
      ]
     },
     "metadata": {
      "needs_background": "light"
     },
     "output_type": "display_data"
    }
   ],
   "source": [
    "boundary = ox.geocode_to_gdf('Mozambique')\n",
    "boundary_polygon = boundary.loc[0,'geometry']\n",
    "\n",
    "osmnx_result = ox.geometries_from_polygon(boundary_polygon, tags={'place': True})\n",
    "osmnx_result.plot()"
   ]
  },
  {
   "cell_type": "code",
   "execution_count": 36,
   "metadata": {},
   "outputs": [],
   "source": [
    "# Read in the overpass-turbo.eu results and count geometries\n",
    "overpassturbo_result = gpd.read_file(local_file_path + 'place_Mozambique.geojson')"
   ]
  },
  {
   "cell_type": "code",
   "execution_count": 37,
   "metadata": {},
   "outputs": [
    {
     "name": "stdout",
     "output_type": "stream",
     "text": [
      "3324 ids that are in both GeoDataFrames\n",
      "\n",
      "0 ids that are not in both GeoDataFrames\n",
      "\n",
      "ids not in overpassturbo_result:\n",
      "[]\n",
      "ids not in osmnx_result:\n",
      "[] \n",
      "\n",
      "              osmnx  overpass-turbo\n",
      "Point          2338            2338\n",
      "Polygon         965             965\n",
      "LineString       15              15\n",
      "MultiPolygon      6               6\n"
     ]
    }
   ],
   "source": [
    "comparison_report(osmnx_result, overpassturbo_result, query_polygon)"
   ]
  },
  {
   "cell_type": "markdown",
   "metadata": {},
   "source": [
    "## Place, Naxos, Greece\n",
    "\n",
    "`(type:node or type:way or (type:relation and type=multipolygon)) and place=* in \"Naxos, Greece\"`\n",
    "\n",
    "- points: 67\n",
    "- lines: 1\n",
    "- polygons: 1\n",
    "\n",
    "### Notes"
   ]
  },
  {
   "cell_type": "code",
   "execution_count": 38,
   "metadata": {},
   "outputs": [],
   "source": [
    "query_polygon = ox.geocode_to_gdf('Naxos, Greece')\n",
    "polygon = query_polygon.loc[0,'geometry']"
   ]
  },
  {
   "cell_type": "code",
   "execution_count": 39,
   "metadata": {},
   "outputs": [],
   "source": [
    "osmnx_result = ox.geometries_from_polygon(polygon, tags={'place': True})"
   ]
  },
  {
   "cell_type": "code",
   "execution_count": 40,
   "metadata": {},
   "outputs": [],
   "source": [
    "# Read in the overpass-turbo.eu results and count geometries\n",
    "overpassturbo_result = gpd.read_file(local_file_path + 'place_Naxos_Greece.geojson')"
   ]
  },
  {
   "cell_type": "code",
   "execution_count": 41,
   "metadata": {},
   "outputs": [
    {
     "name": "stdout",
     "output_type": "stream",
     "text": [
      "69 ids that are in both GeoDataFrames\n",
      "\n",
      "3 ids that are not in both GeoDataFrames\n",
      "\n",
      "ids not in overpassturbo_result:\n",
      "['https://www.openstreetmap.org/relation/453091', 'https://www.openstreetmap.org/relation/3304283', 'https://www.openstreetmap.org/relation/4594226']\n",
      "ids not in osmnx_result:\n",
      "[] \n",
      "\n",
      "              osmnx  overpass-turbo\n",
      "Point            67            67.0\n",
      "Polygon           3             1.0\n",
      "LineString        1             1.0\n",
      "MultiPolygon      1             NaN\n"
     ]
    },
    {
     "name": "stderr",
     "output_type": "stream",
     "text": [
      "/home/nick/anaconda3/envs/osmnx-dev/lib/python3.6/site-packages/geopandas/plotting.py:532: UserWarning: The GeoDataFrame you are attempting to plot is empty. Nothing has been displayed.\n",
      "  UserWarning,\n"
     ]
    },
    {
     "data": {
      "image/png": "[encoded data removed]",
      "text/plain": [
       "<Figure size 576x576 with 1 Axes>"
      ]
     },
     "metadata": {
      "needs_background": "light"
     },
     "output_type": "display_data"
    }
   ],
   "source": [
    "comparison_report(osmnx_result, overpassturbo_result, query_polygon)"
   ]
  },
  {
   "cell_type": "code",
   "execution_count": 42,
   "metadata": {},
   "outputs": [
    {
     "name": "stderr",
     "output_type": "stream",
     "text": [
      "/home/nick/anaconda3/envs/osmnx-dev/lib/python3.6/site-packages/geopandas/plotting.py:532: UserWarning: The GeoDataFrame you are attempting to plot is empty. Nothing has been displayed.\n",
      "  UserWarning,\n"
     ]
    },
    {
     "data": {
      "image/png": "[encoded data removed]",
      "text/plain": [
       "<Figure size 1152x1152 with 1 Axes>"
      ]
     },
     "metadata": {
      "needs_background": "light"
     },
     "output_type": "display_data"
    }
   ],
   "source": [
    "fig, ax = carto_plot(osmnx_result, left=25.3, right=25.7, bottom=36.9, top=37.25)\n",
    "ax.set_facecolor('#aad3df')"
   ]
  },
  {
   "cell_type": "code",
   "execution_count": 43,
   "metadata": {},
   "outputs": [
    {
     "data": {
      "text/plain": [
       "<AxesSubplot:>"
      ]
     },
     "execution_count": 43,
     "metadata": {},
     "output_type": "execute_result"
    },
    {
     "data": {
      "image/png": "[encoded data removed]",
      "text/plain": [
       "<Figure size 432x288 with 1 Axes>"
      ]
     },
     "metadata": {
      "needs_background": "light"
     },
     "output_type": "display_data"
    }
   ],
   "source": [
    "osmnx_result.plot()"
   ]
  },
  {
   "cell_type": "code",
   "execution_count": 44,
   "metadata": {},
   "outputs": [
    {
     "data": {
      "text/plain": [
       "<AxesSubplot:>"
      ]
     },
     "execution_count": 44,
     "metadata": {},
     "output_type": "execute_result"
    },
    {
     "data": {
      "image/png": "[encoded data removed]",
      "text/plain": [
       "<Figure size 432x288 with 1 Axes>"
      ]
     },
     "metadata": {
      "needs_background": "light"
     },
     "output_type": "display_data"
    }
   ],
   "source": [
    "overpassturbo_result.plot()"
   ]
  },
  {
   "cell_type": "code",
   "execution_count": 45,
   "metadata": {},
   "outputs": [
    {
     "data": {
      "text/html": [
       "<div>\n",
       "<style scoped>\n",
       "    .dataframe tbody tr th:only-of-type {\n",
       "        vertical-align: middle;\n",
       "    }\n",
       "\n",
       "    .dataframe tbody tr th {\n",
       "        vertical-align: top;\n",
       "    }\n",
       "\n",
       "    .dataframe thead th {\n",
       "        text-align: right;\n",
       "    }\n",
       "</style>\n",
       "<table border=\"1\" class=\"dataframe\">\n",
       "  <thead>\n",
       "    <tr style=\"text-align: right;\">\n",
       "      <th></th>\n",
       "      <th>unique_id</th>\n",
       "      <th>osmid</th>\n",
       "      <th>element_type</th>\n",
       "      <th>geometry</th>\n",
       "      <th>name</th>\n",
       "      <th>name:it</th>\n",
       "      <th>name:de</th>\n",
       "      <th>name:el</th>\n",
       "      <th>name:en</th>\n",
       "      <th>name:ru</th>\n",
       "      <th>wikidata</th>\n",
       "      <th>wikipedia</th>\n",
       "      <th>name:tr</th>\n",
       "      <th>name:zh</th>\n",
       "      <th>name:mk</th>\n",
       "      <th>place</th>\n",
       "      <th>name:ro</th>\n",
       "      <th>name:fr</th>\n",
       "      <th>name:es</th>\n",
       "      <th>name:ko</th>\n",
       "      <th>name:sr</th>\n",
       "      <th>name:ar</th>\n",
       "      <th>nodes</th>\n",
       "      <th>type</th>\n",
       "      <th>ways</th>\n",
       "      <th>name:sk</th>\n",
       "      <th>alt_name:cs</th>\n",
       "      <th>name:af</th>\n",
       "      <th>name:be</th>\n",
       "      <th>name:bg</th>\n",
       "      <th>name:br</th>\n",
       "      <th>name:bs</th>\n",
       "      <th>name:ca</th>\n",
       "      <th>name:cs</th>\n",
       "      <th>name:cy</th>\n",
       "      <th>name:da</th>\n",
       "      <th>name:eo</th>\n",
       "      <th>name:et</th>\n",
       "      <th>name:eu</th>\n",
       "      <th>name:fa</th>\n",
       "      <th>name:fi</th>\n",
       "      <th>name:fo</th>\n",
       "      <th>name:gl</th>\n",
       "      <th>name:he</th>\n",
       "      <th>name:hr</th>\n",
       "      <th>name:hu</th>\n",
       "      <th>name:hy</th>\n",
       "      <th>name:id</th>\n",
       "      <th>name:ja</th>\n",
       "      <th>name:ka</th>\n",
       "      <th>name:kk</th>\n",
       "      <th>name:ky</th>\n",
       "      <th>name:la</th>\n",
       "      <th>name:lt</th>\n",
       "      <th>name:nl</th>\n",
       "      <th>name:nn</th>\n",
       "      <th>name:no</th>\n",
       "      <th>name:pl</th>\n",
       "      <th>name:pt</th>\n",
       "      <th>name:sv</th>\n",
       "      <th>name:th</th>\n",
       "      <th>name:tl</th>\n",
       "      <th>name:uk</th>\n",
       "      <th>name:ur</th>\n",
       "      <th>name:vi</th>\n",
       "    </tr>\n",
       "  </thead>\n",
       "  <tbody>\n",
       "    <tr>\n",
       "      <th>70</th>\n",
       "      <td>relation/3304283</td>\n",
       "      <td>3304283</td>\n",
       "      <td>relation</td>\n",
       "      <td>MULTIPOLYGON (((24.14788 37.74338, 24.14785 37...</td>\n",
       "      <td>Κυκλάδες</td>\n",
       "      <td>Cicladi</td>\n",
       "      <td>Kykladen</td>\n",
       "      <td>Κυκλάδες</td>\n",
       "      <td>Cyclades</td>\n",
       "      <td>Киклады</td>\n",
       "      <td>Q171132</td>\n",
       "      <td>el:Κυκλάδες</td>\n",
       "      <td>Kiklad Adaları</td>\n",
       "      <td>基克拉泽斯</td>\n",
       "      <td>Киклади</td>\n",
       "      <td>archipelago</td>\n",
       "      <td>Insulele Ciclade</td>\n",
       "      <td>Cyclades</td>\n",
       "      <td>Cícladas</td>\n",
       "      <td>키클라데스 제도</td>\n",
       "      <td>Киклади</td>\n",
       "      <td>كيكلادس</td>\n",
       "      <td>[[[5071909087, 6950498747, 5071909088, 5071909...</td>\n",
       "      <td>multipolygon</td>\n",
       "      <td>[555214583, 497407456, 555212993, 497405271, 5...</td>\n",
       "      <td>Kyklady</td>\n",
       "      <td>Kykladské ostrovy</td>\n",
       "      <td>Kuklade</td>\n",
       "      <td>Кіклады</td>\n",
       "      <td>Циклади</td>\n",
       "      <td>Kikladez</td>\n",
       "      <td>Kikladi</td>\n",
       "      <td>Cíclades</td>\n",
       "      <td>Kyklady</td>\n",
       "      <td>Cyclades</td>\n",
       "      <td>Kykladerne</td>\n",
       "      <td>Cikladoj</td>\n",
       "      <td>Küklaadid</td>\n",
       "      <td>Zikladeak</td>\n",
       "      <td>سیکلدیز</td>\n",
       "      <td>Kykladit</td>\n",
       "      <td>Kykladurnar</td>\n",
       "      <td>Cícladas</td>\n",
       "      <td>האיים הקיקלאדיים</td>\n",
       "      <td>Cikladi</td>\n",
       "      <td>Kükládok</td>\n",
       "      <td>Կիկլադներ</td>\n",
       "      <td>Kyklades</td>\n",
       "      <td>キクラデス諸島</td>\n",
       "      <td>კიკლადები</td>\n",
       "      <td>Киклад аралдары</td>\n",
       "      <td>Кикладдар</td>\n",
       "      <td>Cyclades</td>\n",
       "      <td>Kiklados</td>\n",
       "      <td>Cycladen</td>\n",
       "      <td>Kykladane</td>\n",
       "      <td>Kykladene</td>\n",
       "      <td>Cyklady</td>\n",
       "      <td>Cíclades</td>\n",
       "      <td>Kykladerna</td>\n",
       "      <td>ซิคละดีส</td>\n",
       "      <td>Cyclades</td>\n",
       "      <td>Кіклади</td>\n",
       "      <td>سیکلادیز</td>\n",
       "      <td>Cyclades</td>\n",
       "    </tr>\n",
       "  </tbody>\n",
       "</table>\n",
       "</div>"
      ],
      "text/plain": [
       "           unique_id    osmid element_type  \\\n",
       "70  relation/3304283  3304283     relation   \n",
       "\n",
       "                                             geometry      name  name:it  \\\n",
       "70  MULTIPOLYGON (((24.14788 37.74338, 24.14785 37...  Κυκλάδες  Cicladi   \n",
       "\n",
       "     name:de   name:el   name:en  name:ru wikidata    wikipedia  \\\n",
       "70  Kykladen  Κυκλάδες  Cyclades  Киклады  Q171132  el:Κυκλάδες   \n",
       "\n",
       "           name:tr name:zh  name:mk        place           name:ro   name:fr  \\\n",
       "70  Kiklad Adaları   基克拉泽斯  Киклади  archipelago  Insulele Ciclade  Cyclades   \n",
       "\n",
       "     name:es   name:ko  name:sr  name:ar  \\\n",
       "70  Cícladas  키클라데스 제도  Киклади  كيكلادس   \n",
       "\n",
       "                                                nodes          type  \\\n",
       "70  [[[5071909087, 6950498747, 5071909088, 5071909...  multipolygon   \n",
       "\n",
       "                                                 ways  name:sk  \\\n",
       "70  [555214583, 497407456, 555212993, 497405271, 5...  Kyklady   \n",
       "\n",
       "          alt_name:cs  name:af  name:be  name:bg   name:br  name:bs   name:ca  \\\n",
       "70  Kykladské ostrovy  Kuklade  Кіклады  Циклади  Kikladez  Kikladi  Cíclades   \n",
       "\n",
       "    name:cs   name:cy     name:da   name:eo    name:et    name:eu  name:fa  \\\n",
       "70  Kyklady  Cyclades  Kykladerne  Cikladoj  Küklaadid  Zikladeak  سیکلدیز   \n",
       "\n",
       "     name:fi      name:fo   name:gl           name:he  name:hr   name:hu  \\\n",
       "70  Kykladit  Kykladurnar  Cícladas  האיים הקיקלאדיים  Cikladi  Kükládok   \n",
       "\n",
       "      name:hy   name:id  name:ja    name:ka          name:kk    name:ky  \\\n",
       "70  Կիկլադներ  Kyklades  キクラデス諸島  კიკლადები  Киклад аралдары  Кикладдар   \n",
       "\n",
       "     name:la   name:lt   name:nl    name:nn    name:no  name:pl   name:pt  \\\n",
       "70  Cyclades  Kiklados  Cycladen  Kykladane  Kykladene  Cyklady  Cíclades   \n",
       "\n",
       "       name:sv   name:th   name:tl  name:uk   name:ur   name:vi  \n",
       "70  Kykladerna  ซิคละดีส  Cyclades  Кіклади  سیکلادیز  Cyclades  "
      ]
     },
     "execution_count": 45,
     "metadata": {},
     "output_type": "execute_result"
    }
   ],
   "source": [
    "osmnx_result[osmnx_result['geometry'].geom_type.isin(['MultiPolygon'])].dropna(axis=1)"
   ]
  }
 ],
 "metadata": {
  "kernelspec": {
   "display_name": "Python 3",
   "language": "python",
   "name": "python3"
  },
  "language_info": {
   "codemirror_mode": {
    "name": "ipython",
    "version": 3
   },
   "file_extension": ".py",
   "mimetype": "text/x-python",
   "name": "python",
   "nbconvert_exporter": "python",
   "pygments_lexer": "ipython3",
   "version": "3.6.10"
  }
 },
 "nbformat": 4,
 "nbformat_minor": 4
}
