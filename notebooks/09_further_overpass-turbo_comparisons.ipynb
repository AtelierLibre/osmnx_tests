{
 "cells": [
  {
   "cell_type": "markdown",
   "metadata": {},
   "source": [
    "# 09 overpass-turbo.eu comparisons - part 2\n",
    "\n",
    "***28 Aug 2020***\n",
    "\n",
    "This notebook compares the results of the `gdf_from_XXXX()` functions to results running the same query on https://overpass-turbo.eu.\n",
    "\n",
    "Note the specific format of the wizard query to limit relations to multipolygon relations:\n",
    "\n",
    "`(type:node or type:way or (type:relation and type=multipolygon)) and amenity=school in Berlin`"
   ]
  },
  {
   "cell_type": "code",
   "execution_count": 1,
   "metadata": {},
   "outputs": [],
   "source": [
    "%load_ext autoreload\n",
    "%autoreload 2\n",
    "\n",
    "import osmnx as ox # using fork `New geometries module - Work In Progress`\n",
    "ox.utils.config(use_cache=True, log_console=True)\n",
    "\n",
    "import matplotlib.pyplot as plt\n",
    "\n",
    "import geopandas as gpd\n",
    "import pandas as pd\n",
    "import numpy as np\n",
    "pd.set_option('display.max_columns', None)\n",
    "\n",
    "local_file_path = '/media/nick/WDBlue/osmnx/overpass_turbo_results/'"
   ]
  },
  {
   "cell_type": "code",
   "execution_count": 2,
   "metadata": {},
   "outputs": [],
   "source": [
    "def comparison_report(osmnx_result, overpassturbo_result, query_polygon):\n",
    "    comparison_df = pd.concat([osmnx_result.geom_type.value_counts(),\n",
    "                               overpassturbo_result.geom_type.value_counts()], axis=1)\n",
    "    comparison_df.rename(columns={0:'osmnx', 1:'overpass-turbo'}, inplace=True)\n",
    "\n",
    "    print(len(set(osmnx_result['unique_id']).intersection(set(overpassturbo_result['@id']))),\n",
    "          \"ids that are in both data frames\\n\"\n",
    "    )\n",
    "    \n",
    "    url = \"https://www.openstreetmap.org/\"\n",
    "    ids_not_in_both = set(osmnx_result['unique_id']).symmetric_difference(set(overpassturbo_result['@id']))\n",
    "    print(f\"{len(ids_not_in_both)} ids that are not in both dataframes\")\n",
    "    \n",
    "    print(\"\\nids not in overpassturbo_result:\\n\"\n",
    "          f\"{[url + _id for _id in set(osmnx_result['unique_id']).difference(set(overpassturbo_result['@id']))]}\")\n",
    "    print(\"ids not in osmnx_result:\\n\"\n",
    "          f\"{[url + _id for _id in set(overpassturbo_result['@id']).difference(set(osmnx_result['unique_id']))]} \\n\")\n",
    "\n",
    "    print(comparison_df)\n",
    "    \n",
    "    if len(ids_not_in_both)>0:\n",
    "        ax=query_polygon.plot(figsize=(8,8))\n",
    "        osmnx_result[osmnx_result['unique_id'].isin(ids_not_in_both)].plot(ax=ax, color='red')\n",
    "        overpassturbo_result[overpassturbo_result['@id'].isin(ids_not_in_both)].plot(ax=ax, color='green')\n",
    "        \n",
    "        # minx, miny, maxx, maxy\n",
    "        tba = osmnx_result[osmnx_result['unique_id'].isin(ids_not_in_both)].total_bounds\n",
    "        tbb = overpassturbo_result[overpassturbo_result['@id'].isin(ids_not_in_both)].total_bounds\n",
    "        tb = np.array([tba, tbb])\n",
    "        tb_max = np.nanmax(tb, axis=0)\n",
    "        tb_min = np.nanmin(tb, axis=0)\n",
    "        left = tb_min[0]\n",
    "        right = tb_max[2]\n",
    "        extra_width = (right-left) + 0.01\n",
    "        top = tb_max[3]\n",
    "        bottom = tb_min[1]\n",
    "        extra_height = (top-bottom) + 0.01\n",
    "        ax.set_xlim(left-extra_width, right+extra_width)\n",
    "        ax.set_ylim(bottom-extra_height, top+extra_height)\n"
   ]
  },
  {
   "cell_type": "markdown",
   "metadata": {},
   "source": [
    "# Service roads, Tokyo\n",
    "\n",
    "overpass-turbo.eu wizard query:\n",
    "\n",
    "`(type:node or type:way or (type:relation and type=multipolygon)) and highway=service in Tokyo`\n",
    "\n",
    "#### Results noted at bottom of map:\n",
    "points:0, lines: 48204, poligons:37"
   ]
  },
  {
   "cell_type": "code",
   "execution_count": 3,
   "metadata": {},
   "outputs": [
    {
     "name": "stdout",
     "output_type": "stream",
     "text": [
      "CPU times: user 1min 49s, sys: 787 ms, total: 1min 50s\n",
      "Wall time: 1min 50s\n"
     ]
    }
   ],
   "source": [
    "%%time\n",
    "place='Tokyo, Japan'\n",
    "tags={'highway': 'service'}\n",
    "# run the query through gdf_from_place and count geometries\n",
    "query_polygon = ox.geocode_to_gdf(place)\n",
    "osmnx_result = ox.gdf_from_place(place, tags=tags)"
   ]
  },
  {
   "cell_type": "code",
   "execution_count": 4,
   "metadata": {},
   "outputs": [
    {
     "name": "stdout",
     "output_type": "stream",
     "text": [
      "CPU times: user 7.95 s, sys: 272 ms, total: 8.22 s\n",
      "Wall time: 8.22 s\n"
     ]
    }
   ],
   "source": [
    "%%time\n",
    "# Read in the overpass-turbo.eu results and count geometries\n",
    "overpassturbo_result = gpd.read_file(local_file_path + 'highway_service_Tokyo.geojson')"
   ]
  },
  {
   "cell_type": "code",
   "execution_count": 5,
   "metadata": {},
   "outputs": [
    {
     "name": "stdout",
     "output_type": "stream",
     "text": [
      "48240 ids that are in both data frames\n",
      "\n",
      "1 ids that are not in both dataframes\n",
      "\n",
      "ids not in overpassturbo_result:\n",
      "[]\n",
      "ids not in osmnx_result:\n",
      "['https://www.openstreetmap.org/way/275466528'] \n",
      "\n",
      "            osmnx  overpass-turbo\n",
      "LineString  48203           48204\n",
      "Polygon        37              37\n"
     ]
    },
    {
     "name": "stderr",
     "output_type": "stream",
     "text": [
      "/home/nick/anaconda3/envs/osmnx-dev/lib/python3.6/site-packages/geopandas/plotting.py:532: UserWarning: The GeoDataFrame you are attempting to plot is empty. Nothing has been displayed.\n",
      "  UserWarning,\n"
     ]
    },
    {
     "data": {
      "image/png": "[encoded data removed]",
      "text/plain": [
       "<Figure size 576x576 with 1 Axes>"
      ]
     },
     "metadata": {
      "needs_background": "light"
     },
     "output_type": "display_data"
    }
   ],
   "source": [
    "comparison_report(osmnx_result, overpassturbo_result, query_polygon)"
   ]
  },
  {
   "cell_type": "markdown",
   "metadata": {},
   "source": [
    "# Trees, Delhi\n",
    "\n",
    "overpass-turbo.eu wizard query:\n",
    "\n",
    "`(type:node or type:way or (type:relation and type=multipolygon)) and natural=tree in Delhi`\n",
    "\n",
    "#### Results noted at bottom of map:\n",
    "points:825, lines: 0, poligons:0"
   ]
  },
  {
   "cell_type": "code",
   "execution_count": 6,
   "metadata": {},
   "outputs": [
    {
     "name": "stdout",
     "output_type": "stream",
     "text": [
      "CPU times: user 3 µs, sys: 0 ns, total: 3 µs\n",
      "Wall time: 5.01 µs\n"
     ]
    }
   ],
   "source": [
    "%time\n",
    "place='Delhi, India'\n",
    "tags={'natural': 'tree'}\n",
    "# run the query through gdf_from_place and count geometries\n",
    "query_polygon = ox.geocode_to_gdf(place)\n",
    "osmnx_result = ox.gdf_from_place(place, tags=tags)"
   ]
  },
  {
   "cell_type": "code",
   "execution_count": 7,
   "metadata": {},
   "outputs": [],
   "source": [
    "# Read in the overpass-turbo.eu results and count geometries\n",
    "overpassturbo_result = gpd.read_file(local_file_path + 'natural_tree_Delhi.geojson')"
   ]
  },
  {
   "cell_type": "code",
   "execution_count": 8,
   "metadata": {},
   "outputs": [
    {
     "name": "stdout",
     "output_type": "stream",
     "text": [
      "825 ids that are in both data frames\n",
      "\n",
      "0 ids that are not in both dataframes\n",
      "\n",
      "ids not in overpassturbo_result:\n",
      "[]\n",
      "ids not in osmnx_result:\n",
      "[] \n",
      "\n",
      "       osmnx  overpass-turbo\n",
      "Point    825             825\n"
     ]
    }
   ],
   "source": [
    "comparison_report(osmnx_result, overpassturbo_result, query_polygon)"
   ]
  },
  {
   "cell_type": "markdown",
   "metadata": {},
   "source": [
    "# Streams and power towers, Shanghai\n",
    "\n",
    "overpass-turbo.eu wizard query:\n",
    "\n",
    "`(type:node or type:way or (type:relation and type=multipolygon)) and waterway=stream or power=tower in 'Shanghai, China'`\n",
    "\n",
    "points:9390, lines: 457, poligons:0"
   ]
  },
  {
   "cell_type": "code",
   "execution_count": 9,
   "metadata": {},
   "outputs": [
    {
     "name": "stdout",
     "output_type": "stream",
     "text": [
      "CPU times: user 5.94 s, sys: 7.99 ms, total: 5.95 s\n",
      "Wall time: 5.95 s\n"
     ]
    }
   ],
   "source": [
    "%%time\n",
    "place='Shanghai, China'\n",
    "tags={'waterway': 'stream', 'power': 'tower'}\n",
    "# run the query through gdf_from_place and count geometries\n",
    "query_polygon = ox.geocode_to_gdf(place)\n",
    "osmnx_result = ox.gdf_from_place(place, tags=tags)"
   ]
  },
  {
   "cell_type": "code",
   "execution_count": 10,
   "metadata": {},
   "outputs": [],
   "source": [
    "# Read in the overpass-turbo.eu results and count geometries\n",
    "overpassturbo_result = gpd.read_file(local_file_path + 'stream_power_tower_Shanghai.geojson')"
   ]
  },
  {
   "cell_type": "code",
   "execution_count": 11,
   "metadata": {},
   "outputs": [
    {
     "name": "stdout",
     "output_type": "stream",
     "text": [
      "9847 ids that are in both data frames\n",
      "\n",
      "0 ids that are not in both dataframes\n",
      "\n",
      "ids not in overpassturbo_result:\n",
      "[]\n",
      "ids not in osmnx_result:\n",
      "[] \n",
      "\n",
      "            osmnx  overpass-turbo\n",
      "Point        9390            9390\n",
      "LineString    457             457\n"
     ]
    }
   ],
   "source": [
    "comparison_report(osmnx_result, overpassturbo_result, query_polygon)"
   ]
  },
  {
   "cell_type": "markdown",
   "metadata": {},
   "source": [
    "# Walls and water, Sāo Paulo\n",
    "\n",
    "overpass-turbo.eu wizard query:\n",
    "\n",
    "`(type:node or type:way or (type:relation and type=multipolygon)) and (wall=* or natural=water) in 'Sāo Paulo'`\n",
    "\n",
    "points:0, lines: 4, poligons:528"
   ]
  },
  {
   "cell_type": "code",
   "execution_count": 12,
   "metadata": {},
   "outputs": [
    {
     "name": "stdout",
     "output_type": "stream",
     "text": [
      "CPU times: user 1.52 s, sys: 12 ms, total: 1.53 s\n",
      "Wall time: 1.53 s\n"
     ]
    }
   ],
   "source": [
    "%%time\n",
    "place='Sāo Paulo, Brasil'\n",
    "tags={'wall': True, 'natural': 'water'}\n",
    "# run the query through gdf_from_place and count geometries\n",
    "query_polygon = ox.geocode_to_gdf(place)\n",
    "osmnx_result = ox.gdf_from_place(place, tags=tags)"
   ]
  },
  {
   "cell_type": "code",
   "execution_count": 13,
   "metadata": {},
   "outputs": [],
   "source": [
    "# Read in the overpass-turbo.eu results and count geometries\n",
    "overpassturbo_result = gpd.read_file(local_file_path + 'wall_natural_water_Sāo_Paulo.geojson')"
   ]
  },
  {
   "cell_type": "code",
   "execution_count": 14,
   "metadata": {},
   "outputs": [
    {
     "name": "stdout",
     "output_type": "stream",
     "text": [
      "532 ids that are in both data frames\n",
      "\n",
      "1 ids that are not in both dataframes\n",
      "\n",
      "ids not in overpassturbo_result:\n",
      "['https://www.openstreetmap.org/relation/10991635']\n",
      "ids not in osmnx_result:\n",
      "[] \n",
      "\n",
      "              osmnx  overpass-turbo\n",
      "Polygon         527             527\n",
      "LineString        5               4\n",
      "MultiPolygon      1               1\n"
     ]
    },
    {
     "name": "stderr",
     "output_type": "stream",
     "text": [
      "/home/nick/anaconda3/envs/osmnx-dev/lib/python3.6/site-packages/geopandas/plotting.py:532: UserWarning: The GeoDataFrame you are attempting to plot is empty. Nothing has been displayed.\n",
      "  UserWarning,\n"
     ]
    },
    {
     "data": {
      "image/png": "[encoded data removed]",
      "text/plain": [
       "<Figure size 576x576 with 1 Axes>"
      ]
     },
     "metadata": {
      "needs_background": "light"
     },
     "output_type": "display_data"
    }
   ],
   "source": [
    "comparison_report(osmnx_result, overpassturbo_result, query_polygon)"
   ]
  },
  {
   "cell_type": "markdown",
   "metadata": {},
   "source": [
    "# Woods and residential land, Cairo\n",
    "\n",
    "overpass-turbo.eu wizard query:\n",
    "\n",
    "`(type:node or type:way or (type:relation and type=multipolygon)) and (natural=wood or landuse=residential) in 'Cairo'`\n",
    "\n",
    "points:11, lines: 0, poligons:1731"
   ]
  },
  {
   "cell_type": "code",
   "execution_count": 15,
   "metadata": {},
   "outputs": [
    {
     "name": "stdout",
     "output_type": "stream",
     "text": [
      "CPU times: user 1.22 s, sys: 12 ms, total: 1.23 s\n",
      "Wall time: 1.23 s\n"
     ]
    }
   ],
   "source": [
    "%%time\n",
    "place='Cairo'\n",
    "tags={'natural': 'wood', 'landuse': 'residential'}\n",
    "# run the query through gdf_from_place and count geometries\n",
    "query_polygon = ox.geocode_to_gdf(place)\n",
    "osmnx_result = ox.gdf_from_place(place, tags=tags)"
   ]
  },
  {
   "cell_type": "code",
   "execution_count": 16,
   "metadata": {},
   "outputs": [],
   "source": [
    "# Read in the overpass-turbo.eu results and count geometries\n",
    "overpassturbo_result = gpd.read_file(local_file_path + 'wood_residential_Cairo.geojson')"
   ]
  },
  {
   "cell_type": "code",
   "execution_count": 17,
   "metadata": {},
   "outputs": [
    {
     "name": "stdout",
     "output_type": "stream",
     "text": [
      "1742 ids that are in both data frames\n",
      "\n",
      "0 ids that are not in both dataframes\n",
      "\n",
      "ids not in overpassturbo_result:\n",
      "[]\n",
      "ids not in osmnx_result:\n",
      "[] \n",
      "\n",
      "         osmnx  overpass-turbo\n",
      "Polygon   1731            1731\n",
      "Point       11              11\n"
     ]
    }
   ],
   "source": [
    "comparison_report(osmnx_result, overpassturbo_result, query_polygon)"
   ]
  },
  {
   "cell_type": "markdown",
   "metadata": {},
   "source": [
    "# Parking, Mumbai\n",
    "\n",
    "overpass-turbo.eu wizard query:\n",
    "\n",
    "`(type:node or type:way or (type:relation and type=multipolygon)) and (amenity=parking or service=parking_aisle) in 'Mumbai'`\n",
    "\n",
    "points:45, lines: 32, poligons:88"
   ]
  },
  {
   "cell_type": "code",
   "execution_count": 18,
   "metadata": {},
   "outputs": [
    {
     "name": "stdout",
     "output_type": "stream",
     "text": [
      "CPU times: user 443 ms, sys: 0 ns, total: 443 ms\n",
      "Wall time: 442 ms\n"
     ]
    }
   ],
   "source": [
    "%%time\n",
    "place='Mumbai'\n",
    "tags={'amenity': 'parking', 'service': 'parking_aisle'}\n",
    "# run the query through gdf_from_place and count geometries\n",
    "query_polygon = ox.geocode_to_gdf(place)\n",
    "osmnx_result = ox.gdf_from_place(place, tags=tags)"
   ]
  },
  {
   "cell_type": "code",
   "execution_count": 19,
   "metadata": {},
   "outputs": [],
   "source": [
    "# Read in the overpass-turbo.eu results and count geometries\n",
    "overpassturbo_result = gpd.read_file(local_file_path + 'parking_service_parking_aisle_Mumbai.geojson')"
   ]
  },
  {
   "cell_type": "code",
   "execution_count": 20,
   "metadata": {},
   "outputs": [
    {
     "name": "stdout",
     "output_type": "stream",
     "text": [
      "165 ids that are in both data frames\n",
      "\n",
      "0 ids that are not in both dataframes\n",
      "\n",
      "ids not in overpassturbo_result:\n",
      "[]\n",
      "ids not in osmnx_result:\n",
      "[] \n",
      "\n",
      "            osmnx  overpass-turbo\n",
      "Polygon        88              88\n",
      "Point          45              45\n",
      "LineString     32              32\n"
     ]
    }
   ],
   "source": [
    "comparison_report(osmnx_result, overpassturbo_result, query_polygon)"
   ]
  },
  {
   "cell_type": "markdown",
   "metadata": {},
   "source": [
    "# Paths and power poles, Beijing\n",
    "\n",
    "overpass-turbo.eu wizard query:\n",
    "\n",
    "`(type:node or type:way or (type:relation and type=multipolygon)) and (highway=path or power=pole) in 'Beijing'`\n",
    "\n",
    "points:28, lines: 3743, poligons:0"
   ]
  },
  {
   "cell_type": "code",
   "execution_count": 21,
   "metadata": {},
   "outputs": [
    {
     "name": "stdout",
     "output_type": "stream",
     "text": [
      "CPU times: user 8.2 s, sys: 12 ms, total: 8.21 s\n",
      "Wall time: 8.21 s\n"
     ]
    }
   ],
   "source": [
    "%%time\n",
    "place='Beijing'\n",
    "tags={'highway': 'path', 'power': 'pole'}\n",
    "# run the query through gdf_from_place and count geometries\n",
    "query_polygon = ox.geocode_to_gdf(place)\n",
    "osmnx_result = ox.gdf_from_place(place, tags=tags)"
   ]
  },
  {
   "cell_type": "code",
   "execution_count": 22,
   "metadata": {},
   "outputs": [],
   "source": [
    "overpassturbo_result = gpd.read_file(local_file_path + 'path_power_pole_Beijing.geojson')"
   ]
  },
  {
   "cell_type": "code",
   "execution_count": 23,
   "metadata": {},
   "outputs": [
    {
     "name": "stdout",
     "output_type": "stream",
     "text": [
      "3771 ids that are in both data frames\n",
      "\n",
      "0 ids that are not in both dataframes\n",
      "\n",
      "ids not in overpassturbo_result:\n",
      "[]\n",
      "ids not in osmnx_result:\n",
      "[] \n",
      "\n",
      "            osmnx  overpass-turbo\n",
      "LineString   3743            3743\n",
      "Point          28              28\n"
     ]
    }
   ],
   "source": [
    "comparison_report(osmnx_result, overpassturbo_result, query_polygon)"
   ]
  },
  {
   "cell_type": "markdown",
   "metadata": {},
   "source": [
    "# Natural, residential, tertiary, Dhaka, Bangladesh\n",
    "\n",
    "overpass-turbo.eu wizard query:\n",
    "\n",
    "`(type:node or type:way or (type:relation and type=multipolygon)) and (natural=* or landuse=residential or highway=tertiary) in 'Dhaka District'`\n",
    "\n",
    "points:8682, lines: 807, poligons:5219\n",
    "\n",
    "*Note: I had some issues getting the geocoded geometry to match up on these two queries (one to osmnx, one to overpass-turbo)*"
   ]
  },
  {
   "cell_type": "code",
   "execution_count": 24,
   "metadata": {},
   "outputs": [
    {
     "name": "stdout",
     "output_type": "stream",
     "text": [
      "CPU times: user 3.51 s, sys: 44 ms, total: 3.55 s\n",
      "Wall time: 3.55 s\n"
     ]
    }
   ],
   "source": [
    "%%time\n",
    "place='Dhaka District, Bangladesh'\n",
    "tags={'natural': True, 'landuse': 'residential', 'highway': 'tertiary'}\n",
    "# run the query through gdf_from_place and count geometries\n",
    "query_polygon = ox.geocode_to_gdf(place)\n",
    "osmnx_result = ox.gdf_from_place(place, tags=tags)"
   ]
  },
  {
   "cell_type": "code",
   "execution_count": 25,
   "metadata": {},
   "outputs": [],
   "source": [
    "overpassturbo_result = gpd.read_file(local_file_path + 'natural_residential_tertiary_Dhaka.geojson')"
   ]
  },
  {
   "cell_type": "code",
   "execution_count": 26,
   "metadata": {},
   "outputs": [
    {
     "name": "stdout",
     "output_type": "stream",
     "text": [
      "14707 ids that are in both data frames\n",
      "\n",
      "1 ids that are not in both dataframes\n",
      "\n",
      "ids not in overpassturbo_result:\n",
      "[]\n",
      "ids not in osmnx_result:\n",
      "['https://www.openstreetmap.org/node/3512879150'] \n",
      "\n",
      "              osmnx  overpass-turbo\n",
      "Point          8681            8682\n",
      "Polygon        5216            5216\n",
      "LineString      807             807\n",
      "MultiPolygon      3               3\n"
     ]
    },
    {
     "name": "stderr",
     "output_type": "stream",
     "text": [
      "/home/nick/anaconda3/envs/osmnx-dev/lib/python3.6/site-packages/geopandas/plotting.py:532: UserWarning: The GeoDataFrame you are attempting to plot is empty. Nothing has been displayed.\n",
      "  UserWarning,\n"
     ]
    },
    {
     "data": {
      "image/png": "[encoded data removed]",
      "text/plain": [
       "<Figure size 576x576 with 1 Axes>"
      ]
     },
     "metadata": {
      "needs_background": "light"
     },
     "output_type": "display_data"
    }
   ],
   "source": [
    "comparison_report(osmnx_result, overpassturbo_result, query_polygon)"
   ]
  },
  {
   "cell_type": "code",
   "execution_count": 27,
   "metadata": {},
   "outputs": [
    {
     "data": {
      "text/html": [
       "<div>\n",
       "<style scoped>\n",
       "    .dataframe tbody tr th:only-of-type {\n",
       "        vertical-align: middle;\n",
       "    }\n",
       "\n",
       "    .dataframe tbody tr th {\n",
       "        vertical-align: top;\n",
       "    }\n",
       "\n",
       "    .dataframe thead th {\n",
       "        text-align: right;\n",
       "    }\n",
       "</style>\n",
       "<table border=\"1\" class=\"dataframe\">\n",
       "  <thead>\n",
       "    <tr style=\"text-align: right;\">\n",
       "      <th></th>\n",
       "      <th>id</th>\n",
       "      <th>@id</th>\n",
       "      <th>name</th>\n",
       "      <th>natural</th>\n",
       "      <th>type</th>\n",
       "      <th>water</th>\n",
       "      <th>wikidata</th>\n",
       "      <th>boat</th>\n",
       "      <th>name:bn</th>\n",
       "      <th>name:en</th>\n",
       "      <th>source</th>\n",
       "      <th>wikipedia</th>\n",
       "      <th>landuse</th>\n",
       "      <th>layer</th>\n",
       "      <th>addr:city</th>\n",
       "      <th>addr:postcode</th>\n",
       "      <th>addr:street</th>\n",
       "      <th>alt_name</th>\n",
       "      <th>note</th>\n",
       "      <th>ship</th>\n",
       "      <th>created_by</th>\n",
       "      <th>addr:suburb</th>\n",
       "      <th>waterway</th>\n",
       "      <th>barrier</th>\n",
       "      <th>intermittent</th>\n",
       "      <th>area</th>\n",
       "      <th>addr:housenumber</th>\n",
       "      <th>operator</th>\n",
       "      <th>parking</th>\n",
       "      <th>residential</th>\n",
       "      <th>website</th>\n",
       "      <th>building</th>\n",
       "      <th>leisure</th>\n",
       "      <th>place</th>\n",
       "      <th>addr:place</th>\n",
       "      <th>building:condition</th>\n",
       "      <th>building:levels</th>\n",
       "      <th>building:material</th>\n",
       "      <th>building:soft_storey</th>\n",
       "      <th>wetland</th>\n",
       "      <th>salt</th>\n",
       "      <th>canoe</th>\n",
       "      <th>motorboat</th>\n",
       "      <th>ele</th>\n",
       "      <th>street</th>\n",
       "      <th>opening_hours</th>\n",
       "      <th>phone</th>\n",
       "      <th>Area</th>\n",
       "      <th>ADDRESS</th>\n",
       "      <th>material</th>\n",
       "      <th>seasonal</th>\n",
       "      <th>content</th>\n",
       "      <th>description</th>\n",
       "      <th>cuisine</th>\n",
       "      <th>internet_access</th>\n",
       "      <th>smoking</th>\n",
       "      <th>wheelchair</th>\n",
       "      <th>leaf_type</th>\n",
       "      <th>fishing</th>\n",
       "      <th>man_made</th>\n",
       "      <th>email</th>\n",
       "      <th>level</th>\n",
       "      <th>Children</th>\n",
       "      <th>Household</th>\n",
       "      <th>Resource Center</th>\n",
       "      <th>Slum</th>\n",
       "      <th>addr:country</th>\n",
       "      <th>population</th>\n",
       "      <th>waterland</th>\n",
       "      <th>highway</th>\n",
       "      <th>leaf_cycle</th>\n",
       "      <th>surface</th>\n",
       "      <th>tidal</th>\n",
       "      <th>image</th>\n",
       "      <th>@relations</th>\n",
       "      <th>horse</th>\n",
       "      <th>lanes</th>\n",
       "      <th>maxspeed</th>\n",
       "      <th>oneway</th>\n",
       "      <th>sidewalk</th>\n",
       "      <th>bicycle</th>\n",
       "      <th>foot</th>\n",
       "      <th>lit</th>\n",
       "      <th>fixme</th>\n",
       "      <th>access</th>\n",
       "      <th>lanes:backward</th>\n",
       "      <th>lanes:forward</th>\n",
       "      <th>maxspeed:type</th>\n",
       "      <th>noname</th>\n",
       "      <th>width</th>\n",
       "      <th>motor_vehicle</th>\n",
       "      <th>bridge</th>\n",
       "      <th>smoothness</th>\n",
       "      <th>bus</th>\n",
       "      <th>cycleway:left</th>\n",
       "      <th>maxheight</th>\n",
       "      <th>ref</th>\n",
       "      <th>service</th>\n",
       "      <th>vehicle</th>\n",
       "      <th>is_in</th>\n",
       "      <th>tunnel</th>\n",
       "      <th>motorcar</th>\n",
       "      <th>motorcycle</th>\n",
       "      <th>construction</th>\n",
       "      <th>junction</th>\n",
       "      <th>covered</th>\n",
       "      <th>postal_code</th>\n",
       "      <th>ford</th>\n",
       "      <th>maxspeed:advisory</th>\n",
       "      <th>maxweight:signed</th>\n",
       "      <th>denotation</th>\n",
       "      <th>amenity</th>\n",
       "      <th>species:bn</th>\n",
       "      <th>product</th>\n",
       "      <th>genus</th>\n",
       "      <th>species</th>\n",
       "      <th>taxon</th>\n",
       "      <th>height</th>\n",
       "      <th>name_1</th>\n",
       "      <th>order</th>\n",
       "      <th>shop</th>\n",
       "      <th>diameter_crown</th>\n",
       "      <th>circumference</th>\n",
       "      <th>geometry</th>\n",
       "    </tr>\n",
       "  </thead>\n",
       "  <tbody>\n",
       "    <tr>\n",
       "      <th>6858</th>\n",
       "      <td>node/3512879150</td>\n",
       "      <td>node/3512879150</td>\n",
       "      <td>None</td>\n",
       "      <td>None</td>\n",
       "      <td>None</td>\n",
       "      <td>None</td>\n",
       "      <td>None</td>\n",
       "      <td>None</td>\n",
       "      <td>None</td>\n",
       "      <td>None</td>\n",
       "      <td>None</td>\n",
       "      <td>None</td>\n",
       "      <td>None</td>\n",
       "      <td>None</td>\n",
       "      <td>None</td>\n",
       "      <td>None</td>\n",
       "      <td>None</td>\n",
       "      <td>None</td>\n",
       "      <td>None</td>\n",
       "      <td>None</td>\n",
       "      <td>None</td>\n",
       "      <td>None</td>\n",
       "      <td>None</td>\n",
       "      <td>None</td>\n",
       "      <td>None</td>\n",
       "      <td>None</td>\n",
       "      <td>None</td>\n",
       "      <td>None</td>\n",
       "      <td>None</td>\n",
       "      <td>None</td>\n",
       "      <td>None</td>\n",
       "      <td>None</td>\n",
       "      <td>None</td>\n",
       "      <td>None</td>\n",
       "      <td>None</td>\n",
       "      <td>None</td>\n",
       "      <td>None</td>\n",
       "      <td>None</td>\n",
       "      <td>None</td>\n",
       "      <td>None</td>\n",
       "      <td>None</td>\n",
       "      <td>None</td>\n",
       "      <td>None</td>\n",
       "      <td>None</td>\n",
       "      <td>None</td>\n",
       "      <td>None</td>\n",
       "      <td>None</td>\n",
       "      <td>None</td>\n",
       "      <td>None</td>\n",
       "      <td>None</td>\n",
       "      <td>None</td>\n",
       "      <td>None</td>\n",
       "      <td>None</td>\n",
       "      <td>None</td>\n",
       "      <td>None</td>\n",
       "      <td>None</td>\n",
       "      <td>None</td>\n",
       "      <td>None</td>\n",
       "      <td>None</td>\n",
       "      <td>None</td>\n",
       "      <td>None</td>\n",
       "      <td>None</td>\n",
       "      <td>None</td>\n",
       "      <td>None</td>\n",
       "      <td>None</td>\n",
       "      <td>None</td>\n",
       "      <td>None</td>\n",
       "      <td>None</td>\n",
       "      <td>None</td>\n",
       "      <td>None</td>\n",
       "      <td>None</td>\n",
       "      <td>None</td>\n",
       "      <td>None</td>\n",
       "      <td>None</td>\n",
       "      <td>[ { \"role\": \"outer\", \"rel\": 3400205, \"reltags\"...</td>\n",
       "      <td>None</td>\n",
       "      <td>None</td>\n",
       "      <td>None</td>\n",
       "      <td>None</td>\n",
       "      <td>None</td>\n",
       "      <td>None</td>\n",
       "      <td>None</td>\n",
       "      <td>None</td>\n",
       "      <td>None</td>\n",
       "      <td>None</td>\n",
       "      <td>None</td>\n",
       "      <td>None</td>\n",
       "      <td>None</td>\n",
       "      <td>None</td>\n",
       "      <td>None</td>\n",
       "      <td>None</td>\n",
       "      <td>None</td>\n",
       "      <td>None</td>\n",
       "      <td>None</td>\n",
       "      <td>None</td>\n",
       "      <td>None</td>\n",
       "      <td>None</td>\n",
       "      <td>None</td>\n",
       "      <td>None</td>\n",
       "      <td>None</td>\n",
       "      <td>None</td>\n",
       "      <td>None</td>\n",
       "      <td>None</td>\n",
       "      <td>None</td>\n",
       "      <td>None</td>\n",
       "      <td>None</td>\n",
       "      <td>None</td>\n",
       "      <td>None</td>\n",
       "      <td>None</td>\n",
       "      <td>None</td>\n",
       "      <td>None</td>\n",
       "      <td>None</td>\n",
       "      <td>None</td>\n",
       "      <td>None</td>\n",
       "      <td>None</td>\n",
       "      <td>None</td>\n",
       "      <td>None</td>\n",
       "      <td>None</td>\n",
       "      <td>None</td>\n",
       "      <td>None</td>\n",
       "      <td>None</td>\n",
       "      <td>None</td>\n",
       "      <td>None</td>\n",
       "      <td>POINT (90.33267 23.76109)</td>\n",
       "    </tr>\n",
       "  </tbody>\n",
       "</table>\n",
       "</div>"
      ],
      "text/plain": [
       "                   id              @id  name natural  type water wikidata  \\\n",
       "6858  node/3512879150  node/3512879150  None    None  None  None     None   \n",
       "\n",
       "      boat name:bn name:en source wikipedia landuse layer addr:city  \\\n",
       "6858  None    None    None   None      None    None  None      None   \n",
       "\n",
       "     addr:postcode addr:street alt_name  note  ship created_by addr:suburb  \\\n",
       "6858          None        None     None  None  None       None        None   \n",
       "\n",
       "     waterway barrier intermittent  area addr:housenumber operator parking  \\\n",
       "6858     None    None         None  None             None     None    None   \n",
       "\n",
       "     residential website building leisure place addr:place building:condition  \\\n",
       "6858        None    None     None    None  None       None               None   \n",
       "\n",
       "     building:levels building:material building:soft_storey wetland  salt  \\\n",
       "6858            None              None                 None    None  None   \n",
       "\n",
       "     canoe motorboat   ele street opening_hours phone  Area ADDRESS material  \\\n",
       "6858  None      None  None   None          None  None  None    None     None   \n",
       "\n",
       "     seasonal content description cuisine internet_access smoking wheelchair  \\\n",
       "6858     None    None        None    None            None    None       None   \n",
       "\n",
       "     leaf_type fishing man_made email level Children Household  \\\n",
       "6858      None    None     None  None  None     None      None   \n",
       "\n",
       "     Resource Center  Slum addr:country population waterland highway  \\\n",
       "6858            None  None         None       None      None    None   \n",
       "\n",
       "     leaf_cycle surface tidal image  \\\n",
       "6858       None    None  None  None   \n",
       "\n",
       "                                             @relations horse lanes maxspeed  \\\n",
       "6858  [ { \"role\": \"outer\", \"rel\": 3400205, \"reltags\"...  None  None     None   \n",
       "\n",
       "     oneway sidewalk bicycle  foot   lit fixme access lanes:backward  \\\n",
       "6858   None     None    None  None  None  None   None           None   \n",
       "\n",
       "     lanes:forward maxspeed:type noname width motor_vehicle bridge smoothness  \\\n",
       "6858          None          None   None  None          None   None       None   \n",
       "\n",
       "       bus cycleway:left maxheight   ref service vehicle is_in tunnel  \\\n",
       "6858  None          None      None  None    None    None  None   None   \n",
       "\n",
       "     motorcar motorcycle construction junction covered postal_code  ford  \\\n",
       "6858     None       None         None     None    None        None  None   \n",
       "\n",
       "     maxspeed:advisory maxweight:signed denotation amenity species:bn product  \\\n",
       "6858              None             None       None    None       None    None   \n",
       "\n",
       "     genus species taxon height name_1 order  shop diameter_crown  \\\n",
       "6858  None    None  None   None   None  None  None           None   \n",
       "\n",
       "     circumference                   geometry  \n",
       "6858          None  POINT (90.33267 23.76109)  "
      ]
     },
     "execution_count": 27,
     "metadata": {},
     "output_type": "execute_result"
    }
   ],
   "source": [
    "overpassturbo_result[overpassturbo_result['@id'] == 'node/3512879150']"
   ]
  },
  {
   "cell_type": "markdown",
   "metadata": {},
   "source": [
    "# Farmland, forest, bridge, Osaka\n",
    "\n",
    "overpass-turbo.eu wizard query:\n",
    "\n",
    "`(type:node or type:way or (type:relation and type=multipolygon)) and (landuse=farmland or landuse=forest or bridge=yes) in 'Osaka'`\n",
    "\n",
    "points:3, lines: 11169, poligons: 6085"
   ]
  },
  {
   "cell_type": "code",
   "execution_count": 28,
   "metadata": {},
   "outputs": [
    {
     "name": "stdout",
     "output_type": "stream",
     "text": [
      "CPU times: user 8.32 s, sys: 332 ms, total: 8.65 s\n",
      "Wall time: 8.65 s\n"
     ]
    }
   ],
   "source": [
    "%%time\n",
    "place='Osaka'\n",
    "tags={'landuse': ['farmland', 'forest'], 'bridge': 'yes'}\n",
    "# run the query through gdf_from_place and count geometries\n",
    "query_polygon = ox.geocode_to_gdf(place)\n",
    "osmnx_result = ox.gdf_from_place(place, tags=tags)"
   ]
  },
  {
   "cell_type": "code",
   "execution_count": 29,
   "metadata": {},
   "outputs": [],
   "source": [
    "overpassturbo_result = gpd.read_file(local_file_path + 'farmland_forest_bridge_Osaka.geojson')"
   ]
  },
  {
   "cell_type": "code",
   "execution_count": 30,
   "metadata": {},
   "outputs": [
    {
     "name": "stdout",
     "output_type": "stream",
     "text": [
      "17257 ids that are in both data frames\n",
      "\n",
      "1 ids that are not in both dataframes\n",
      "\n",
      "ids not in overpassturbo_result:\n",
      "['https://www.openstreetmap.org/way/53203179']\n",
      "ids not in osmnx_result:\n",
      "[] \n",
      "\n",
      "              osmnx  overpass-turbo\n",
      "LineString    11169           11169\n",
      "Polygon        6080            6079\n",
      "MultiPolygon      6               6\n",
      "Point             3               3\n"
     ]
    },
    {
     "name": "stderr",
     "output_type": "stream",
     "text": [
      "/home/nick/anaconda3/envs/osmnx-dev/lib/python3.6/site-packages/geopandas/plotting.py:532: UserWarning: The GeoDataFrame you are attempting to plot is empty. Nothing has been displayed.\n",
      "  UserWarning,\n"
     ]
    },
    {
     "data": {
      "image/png": "[encoded data removed]",
      "text/plain": [
       "<Figure size 576x576 with 1 Axes>"
      ]
     },
     "metadata": {
      "needs_background": "light"
     },
     "output_type": "display_data"
    }
   ],
   "source": [
    "comparison_report(osmnx_result, overpassturbo_result, query_polygon)"
   ]
  },
  {
   "cell_type": "markdown",
   "metadata": {},
   "source": [
    "# Cafe, grass, New York City\n",
    "\n",
    "overpass-turbo.eu wizard query:\n",
    "\n",
    "`(type:node or type:way or (type:relation and type=multipolygon)) and (highway=* or landuse=grass) in 'New York City'`\n",
    "\n",
    "points:1580, lines: 5, poligons: 3184\n",
    "\n",
    "*Note: the geometries missing from the osmnx result are because they are not tagged with role=outer.*"
   ]
  },
  {
   "cell_type": "code",
   "execution_count": 31,
   "metadata": {},
   "outputs": [
    {
     "name": "stdout",
     "output_type": "stream",
     "text": [
      "CPU times: user 1.98 s, sys: 8.02 ms, total: 1.99 s\n",
      "Wall time: 1.98 s\n"
     ]
    }
   ],
   "source": [
    "%%time\n",
    "place='New York City'\n",
    "tags={'amenity': 'cafe', 'landuse': 'grass'}\n",
    "# run the query through gdf_from_place and count geometries\n",
    "query_polygon = ox.geocode_to_gdf(place)\n",
    "osmnx_result = ox.gdf_from_place(place, tags=tags)"
   ]
  },
  {
   "cell_type": "code",
   "execution_count": 32,
   "metadata": {},
   "outputs": [],
   "source": [
    "overpassturbo_result = gpd.read_file(local_file_path + 'cafe_grass_New_York_City.geojson')"
   ]
  },
  {
   "cell_type": "code",
   "execution_count": 33,
   "metadata": {},
   "outputs": [
    {
     "name": "stdout",
     "output_type": "stream",
     "text": [
      "4764 ids that are in both data frames\n",
      "\n",
      "5 ids that are not in both dataframes\n",
      "\n",
      "ids not in overpassturbo_result:\n",
      "[]\n",
      "ids not in osmnx_result:\n",
      "['https://www.openstreetmap.org/way/387468103', 'https://www.openstreetmap.org/way/478534136', 'https://www.openstreetmap.org/way/387468724', 'https://www.openstreetmap.org/way/387468104', 'https://www.openstreetmap.org/way/387468723'] \n",
      "\n",
      "               osmnx  overpass-turbo\n",
      "Polygon       3175.0            3170\n",
      "Point         1580.0            1580\n",
      "MultiPolygon     9.0              14\n",
      "LineString       NaN               5\n"
     ]
    },
    {
     "name": "stderr",
     "output_type": "stream",
     "text": [
      "/home/nick/anaconda3/envs/osmnx-dev/lib/python3.6/site-packages/geopandas/plotting.py:532: UserWarning: The GeoDataFrame you are attempting to plot is empty. Nothing has been displayed.\n",
      "  UserWarning,\n"
     ]
    },
    {
     "data": {
      "image/png": "[encoded data removed]",
      "text/plain": [
       "<Figure size 576x576 with 1 Axes>"
      ]
     },
     "metadata": {
      "needs_background": "light"
     },
     "output_type": "display_data"
    }
   ],
   "source": [
    "comparison_report(osmnx_result, overpassturbo_result, query_polygon)"
   ]
  },
  {
   "cell_type": "markdown",
   "metadata": {},
   "source": [
    "# Nightclub, New Alresford, Hampshire\n",
    "\n",
    "overpass-turbo.eu wizard query:\n",
    "\n",
    "`(type:node or type:way or (type:relation and type=multipolygon)) and (amenity=nightclub) in 'New Alresford, Hampshire'`\n",
    "\n",
    "points:0, lines: 0, poligons: 0\n",
    "\n",
    "*Note: Testing creation of empty GeoDataFrame from empty overpass response*"
   ]
  },
  {
   "cell_type": "code",
   "execution_count": 34,
   "metadata": {},
   "outputs": [
    {
     "name": "stdout",
     "output_type": "stream",
     "text": [
      "CPU times: user 186 ms, sys: 4.04 ms, total: 190 ms\n",
      "Wall time: 189 ms\n"
     ]
    }
   ],
   "source": [
    "%%time\n",
    "place='New Alresford, Hampshire'\n",
    "tags={'amenity': 'nightclub'}\n",
    "# run the query through gdf_from_place and count geometries\n",
    "query_polygon = ox.geocode_to_gdf(place)\n",
    "osmnx_result = ox.gdf_from_place(place, tags=tags)"
   ]
  },
  {
   "cell_type": "code",
   "execution_count": 35,
   "metadata": {},
   "outputs": [
    {
     "data": {
      "text/html": [
       "<div>\n",
       "<style scoped>\n",
       "    .dataframe tbody tr th:only-of-type {\n",
       "        vertical-align: middle;\n",
       "    }\n",
       "\n",
       "    .dataframe tbody tr th {\n",
       "        vertical-align: top;\n",
       "    }\n",
       "\n",
       "    .dataframe thead th {\n",
       "        text-align: right;\n",
       "    }\n",
       "</style>\n",
       "<table border=\"1\" class=\"dataframe\">\n",
       "  <thead>\n",
       "    <tr style=\"text-align: right;\">\n",
       "      <th></th>\n",
       "      <th>geometry</th>\n",
       "    </tr>\n",
       "  </thead>\n",
       "  <tbody>\n",
       "  </tbody>\n",
       "</table>\n",
       "</div>"
      ],
      "text/plain": [
       "Empty GeoDataFrame\n",
       "Columns: [geometry]\n",
       "Index: []"
      ]
     },
     "execution_count": 35,
     "metadata": {},
     "output_type": "execute_result"
    }
   ],
   "source": [
    "osmnx_result"
   ]
  },
  {
   "cell_type": "code",
   "execution_count": null,
   "metadata": {},
   "outputs": [],
   "source": []
  }
 ],
 "metadata": {
  "kernelspec": {
   "display_name": "Python 3",
   "language": "python",
   "name": "python3"
  },
  "language_info": {
   "codemirror_mode": {
    "name": "ipython",
    "version": 3
   },
   "file_extension": ".py",
   "mimetype": "text/x-python",
   "name": "python",
   "nbconvert_exporter": "python",
   "pygments_lexer": "ipython3",
   "version": "3.6.10"
  }
 },
 "nbformat": 4,
 "nbformat_minor": 4
}
